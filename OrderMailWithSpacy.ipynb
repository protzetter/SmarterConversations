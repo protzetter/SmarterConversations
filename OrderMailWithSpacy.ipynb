{
 "cells": [
  {
   "cell_type": "markdown",
   "metadata": {
    "cell_id": "00000-f5285416-e7a4-4f49-8a1a-84f5b7996dce",
    "deepnote_cell_type": "markdown",
    "id": "U_P9Vs_7pLmh"
   },
   "source": [
    "# Smarter conversations using Spacy\n",
    "\n",
    "Created on March 21st 2020 and updated in August 2021 by Patrick Rotzetter\n",
    "\n",
    "https://www.linkedin.com/in/rotzetter/\n",
    "\n",
    "**Small experiment for automatic order mail processing**\n",
    "\n",
    "\n"
   ]
  },
  {
   "cell_type": "markdown",
   "metadata": {},
   "source": [
    "# Pre-requisites\n",
    "\n",
    "Let us import required libraries and check that some pre-requisites are met"
   ]
  },
  {
   "cell_type": "code",
   "execution_count": 1,
   "metadata": {
    "cell_id": "00001-9cefa3a2-27d4-45d7-839b-14425c812c27",
    "deepnote_cell_type": "code",
    "execution_millis": 224,
    "execution_start": 1609338867366,
    "id": "qPF1dXXBpLm4",
    "output_cleared": false,
    "source_hash": "ed74bd48"
   },
   "outputs": [],
   "source": [
    "# Import libraries\n",
    "import spacy\n",
    "from spacy.pipeline import EntityRuler\n",
    "from spacy.matcher import Matcher,PhraseMatcher\n",
    "from spacy.symbols import nsubj, VERB, dobj, NOUN, root, xcomp\n",
    "from spacy import displacy\n",
    "from spacy.matcher import Matcher\n",
    "from pathlib import Path\n",
    "import random  "
   ]
  },
  {
   "cell_type": "code",
   "execution_count": 2,
   "metadata": {
    "cell_id": "00003-483e112e-1aad-48e9-9b6b-44d28b4249e9",
    "colab": {
     "base_uri": "https://localhost:8080/"
    },
    "deepnote_cell_type": "code",
    "execution_millis": 1282,
    "execution_start": 1609338887698,
    "id": "G0kIIbSlRigk",
    "outputId": "19fce0d5-9c4b-4854-cd35-0938ef946e7f",
    "output_cleared": false,
    "source_hash": "51a07baa"
   },
   "outputs": [
    {
     "name": "stdout",
     "output_type": "stream",
     "text": [
      "3.8.11\n",
      "Name: spacy\n",
      "Version: 3.1.1\n",
      "Summary: Industrial-strength Natural Language Processing (NLP) in Python\n",
      "Home-page: https://spacy.io\n",
      "Author: Explosion\n",
      "Author-email: contact@explosion.ai\n",
      "License: MIT\n",
      "Location: /Users/patrickrotzetter/opt/anaconda3/lib/python3.8/site-packages\n",
      "Requires: catalogue, typer, blis, wasabi, pydantic, spacy-legacy, preshed, packaging, numpy, srsly, pathy, murmurhash, requests, cymem, setuptools, tqdm, jinja2, thinc\n",
      "Required-by: spacy-transformers, en-core-web-trf, en-core-web-sm, en-core-web-lg\n"
     ]
    }
   ],
   "source": [
    "# Let us confirm we have the rigt Python and spacy version, we never know !\n",
    "from platform import python_version\n",
    "print(python_version())\n",
    "!pip show spacy"
   ]
  },
  {
   "cell_type": "code",
   "execution_count": 3,
   "metadata": {},
   "outputs": [
    {
     "name": "stdout",
     "output_type": "stream",
     "text": [
      "\u001b[2Kading compatibility table...\u001b[38;5;2m✔ Loaded compatibility table\u001b[0m\n",
      "\u001b[1m\n",
      "================= Installed pipeline packages (spaCy v3.1.1) =================\u001b[0m\n",
      "\u001b[38;5;4mℹ spaCy installation:\n",
      "/Users/patrickrotzetter/opt/anaconda3/lib/python3.8/site-packages/spacy\u001b[0m\n",
      "\n",
      "NAME              SPACY            VERSION                            \n",
      "en_core_web_trf   >=3.1.0,<3.2.0   \u001b[38;5;2m3.1.0\u001b[0m   \u001b[38;5;2m✔\u001b[0m\n",
      "en_core_web_sm    >=3.1.0,<3.2.0   \u001b[38;5;2m3.1.0\u001b[0m   \u001b[38;5;2m✔\u001b[0m\n",
      "en_core_web_lg    >=3.1.0,<3.2.0   \u001b[38;5;2m3.1.0\u001b[0m   \u001b[38;5;2m✔\u001b[0m\n",
      "\n"
     ]
    }
   ],
   "source": [
    "# validate libraries and models are well installed\n",
    "!python -m spacy validate"
   ]
  },
  {
   "cell_type": "code",
   "execution_count": 4,
   "metadata": {
    "cell_id": "00004-c116c573-18be-4433-8997-ab696a2dbd99",
    "deepnote_cell_type": "code",
    "execution_millis": 4411,
    "execution_start": 1609338898776,
    "id": "GixaCyvwaHTZ",
    "output_cleared": false,
    "source_hash": "b12182bb"
   },
   "outputs": [],
   "source": [
    "# load spacy model, in this case we will use the transformer model\n",
    "\n",
    "import en_core_web_trf\n",
    "nlp = en_core_web_trf.load()"
   ]
  },
  {
   "cell_type": "code",
   "execution_count": 5,
   "metadata": {
    "cell_id": "00006-e170f58b-3eed-40aa-a801-a015de0a7747",
    "colab": {
     "base_uri": "https://localhost:8080/"
    },
    "deepnote_cell_type": "code",
    "execution_millis": 3,
    "execution_start": 1609338910670,
    "id": "mlh4tq5ppLnD",
    "outputId": "1be2524a-1438-4453-de6f-801e27860255",
    "output_cleared": false,
    "source_hash": "6395de64"
   },
   "outputs": [
    {
     "name": "stdout",
     "output_type": "stream",
     "text": [
      "Hello,  I would like to order a notebook with 16GB and 256 GB disk, I would like to spend less than 1000 Francs, what would be the options  Thanks a lot  Patrick\n"
     ]
    }
   ],
   "source": [
    "#read mail file which contains the possible dialog content\n",
    "\n",
    "text = open('ordermail.txt').read().replace('\\n', ' ')\n",
    "\n",
    "print(text)\n"
   ]
  },
  {
   "cell_type": "markdown",
   "metadata": {},
   "source": [
    "# Processing the text content with spacy"
   ]
  },
  {
   "cell_type": "markdown",
   "metadata": {},
   "source": [
    "## Standard Named Entities Recognition\n",
    "\n",
    "Let us start with named entity recognition and see what Spacy could detect."
   ]
  },
  {
   "cell_type": "code",
   "execution_count": 6,
   "metadata": {
    "cell_id": "00007-b352d73d-37bc-43c1-b391-6f1eab67da7b",
    "deepnote_cell_type": "code",
    "execution_millis": 15,
    "execution_start": 1609338913265,
    "id": "MM2JLVdDpLnP",
    "output_cleared": false,
    "source_hash": "10bca53f"
   },
   "outputs": [],
   "source": [
    "#process the mail trough standard spacy pipeline\n",
    "docMail=nlp(text)\n"
   ]
  },
  {
   "cell_type": "code",
   "execution_count": 7,
   "metadata": {
    "cell_id": "00008-3b5236ce-b174-4a3a-a8dd-9ac19befd859",
    "colab": {
     "base_uri": "https://localhost:8080/"
    },
    "deepnote_cell_type": "code",
    "execution_millis": 3,
    "execution_start": 1609338914343,
    "id": "VfqjYwm-pLnY",
    "outputId": "0c0d80a5-c28a-4d64-9ee0-813346ff8b83",
    "output_cleared": false,
    "source_hash": "b9e545a9"
   },
   "outputs": [
    {
     "name": "stdout",
     "output_type": "stream",
     "text": [
      "16GB QUANTITY\n",
      "256 GB QUANTITY\n",
      "less than 1000 Francs MONEY\n",
      "Patrick PERSON\n"
     ]
    }
   ],
   "source": [
    "# print text entities detected\n",
    "for ent in docMail.ents :\n",
    "    print(ent.text, ent.label_,)\n"
   ]
  },
  {
   "cell_type": "markdown",
   "metadata": {},
   "source": [
    "We can also visualize the result directly in the text with highlighted entities."
   ]
  },
  {
   "cell_type": "code",
   "execution_count": 8,
   "metadata": {},
   "outputs": [
    {
     "data": {
      "text/html": [
       "<span class=\"tex2jax_ignore\"><div class=\"entities\" style=\"line-height: 2.5; direction: ltr\">Hello,  I would like to order a notebook with <mark class=\"entity\" style=\"background: #e4e7d2; padding: 0.45em 0.6em; margin: 0 0.25em; line-height: 1; border-radius: 0.35em;\">16GB<span style=\"font-size: 0.8em; font-weight: bold; line-height: 1; border-radius: 0.35em; vertical-align: middle; margin-left: 0.5rem\">QUANTITY</span></mark> and <mark class=\"entity\" style=\"background: #e4e7d2; padding: 0.45em 0.6em; margin: 0 0.25em; line-height: 1; border-radius: 0.35em;\">256 GB<span style=\"font-size: 0.8em; font-weight: bold; line-height: 1; border-radius: 0.35em; vertical-align: middle; margin-left: 0.5rem\">QUANTITY</span></mark> disk, I would like to spend <mark class=\"entity\" style=\"background: #e4e7d2; padding: 0.45em 0.6em; margin: 0 0.25em; line-height: 1; border-radius: 0.35em;\">less than 1000 Francs<span style=\"font-size: 0.8em; font-weight: bold; line-height: 1; border-radius: 0.35em; vertical-align: middle; margin-left: 0.5rem\">MONEY</span></mark>, what would be the options  Thanks a lot  <mark class=\"entity\" style=\"background: #aa9cfc; padding: 0.45em 0.6em; margin: 0 0.25em; line-height: 1; border-radius: 0.35em;\">Patrick<span style=\"font-size: 0.8em; font-weight: bold; line-height: 1; border-radius: 0.35em; vertical-align: middle; margin-left: 0.5rem\">PERSON</span></mark></div></span>"
      ],
      "text/plain": [
       "<IPython.core.display.HTML object>"
      ]
     },
     "metadata": {},
     "output_type": "display_data"
    }
   ],
   "source": [
    "#Let us visualize the result directly in the text\n",
    "displacy.render(docMail, style='ent', minify=True)"
   ]
  },
  {
   "cell_type": "markdown",
   "metadata": {},
   "source": [
    "## Domain specific entities\n",
    "\n",
    "The default model does not seem to detect notebook and disk as entities, but identifies the sender as a person and identifies the RAM and disk size as quantities. This is a good start, but still far away from a practical solution. So, let us add some domain specific entities that will help us later on."
   ]
  },
  {
   "cell_type": "code",
   "execution_count": 9,
   "metadata": {
    "cell_id": "00009-9454f79f-7d54-474e-a591-40faf883b531",
    "deepnote_cell_type": "code",
    "execution_millis": 0,
    "execution_start": 1609338916303,
    "id": "ktTxXUv6pLnm",
    "output_cleared": false,
    "source_hash": "a0f40514"
   },
   "outputs": [],
   "source": [
    "# add domain specific entities and add to the pipeline\n",
    "patterns = [{\"label\": \"CURRENCY\", \"pattern\":  [{\"lower\": \"francs\"}]},\n",
    "            {\"label\": \"PART\", \"pattern\":  [{\"lower\": \"disk\"}]}]\n",
    "\n",
    "\n",
    "config = {\n",
    "   \"phrase_matcher_attr\": None,\n",
    "   \"validate\": True,\n",
    "   \"overwrite_ents\": True,\n",
    "   \"ent_id_sep\": \"||\",\n",
    "}\n",
    "ruler=nlp.add_pipe('entity_ruler',config=config)\n"
   ]
  },
  {
   "cell_type": "code",
   "execution_count": 10,
   "metadata": {},
   "outputs": [],
   "source": [
    "ruler.add_patterns(patterns)"
   ]
  },
  {
   "cell_type": "code",
   "execution_count": 11,
   "metadata": {
    "cell_id": "00010-1bc279f9-326e-4efa-b41f-3e0f77046320",
    "colab": {
     "base_uri": "https://localhost:8080/"
    },
    "deepnote_cell_type": "code",
    "execution_millis": 16,
    "execution_start": 1609338919354,
    "id": "yGXjca-QpLnw",
    "outputId": "ce015e62-7de1-49e2-ee0f-5dc729a5162e",
    "output_cleared": false,
    "source_hash": "204d270d"
   },
   "outputs": [
    {
     "name": "stdout",
     "output_type": "stream",
     "text": [
      "16GB QUANTITY\n",
      "256 GB QUANTITY\n",
      "disk PART\n",
      "Francs CURRENCY\n",
      "Patrick PERSON\n"
     ]
    }
   ],
   "source": [
    "#process the mail again with added entities\n",
    "docMail=nlp(text)\n",
    "for ents in docMail.ents:\n",
    "    # Print the entity text and its label\n",
    "    print(ents.text, ents.label_,)\n",
    "\n"
   ]
  },
  {
   "cell_type": "markdown",
   "metadata": {},
   "source": [
    "#### Now the results look a bit better, the model could detect 'disk' and 'francs' for example."
   ]
  },
  {
   "cell_type": "code",
   "execution_count": 15,
   "metadata": {
    "cell_id": "00014-a9b7a070-633e-4f2d-94b4-128a504f66da",
    "colab": {
     "base_uri": "https://localhost:8080/",
     "height": 109
    },
    "deepnote_cell_type": "code",
    "execution_millis": 3,
    "execution_start": 1609338929253,
    "id": "PneiF9bEeN6Y",
    "outputId": "6742ffa1-a9e0-48fc-cc7d-970042baad12",
    "output_cleared": false,
    "source_hash": "def5c09"
   },
   "outputs": [
    {
     "data": {
      "text/html": [
       "<span class=\"tex2jax_ignore\"><div class=\"entities\" style=\"line-height: 2.5; direction: ltr\">Hello,  I would like to order a notebook with <mark class=\"entity\" style=\"background: #e4e7d2; padding: 0.45em 0.6em; margin: 0 0.25em; line-height: 1; border-radius: 0.35em;\">16GB<span style=\"font-size: 0.8em; font-weight: bold; line-height: 1; border-radius: 0.35em; vertical-align: middle; margin-left: 0.5rem\">QUANTITY</span></mark> and <mark class=\"entity\" style=\"background: #e4e7d2; padding: 0.45em 0.6em; margin: 0 0.25em; line-height: 1; border-radius: 0.35em;\">256 GB<span style=\"font-size: 0.8em; font-weight: bold; line-height: 1; border-radius: 0.35em; vertical-align: middle; margin-left: 0.5rem\">QUANTITY</span></mark> <mark class=\"entity\" style=\"background: #ddd; padding: 0.45em 0.6em; margin: 0 0.25em; line-height: 1; border-radius: 0.35em;\">disk<span style=\"font-size: 0.8em; font-weight: bold; line-height: 1; border-radius: 0.35em; vertical-align: middle; margin-left: 0.5rem\">PART</span></mark>, I would like to spend less than 1000 <mark class=\"entity\" style=\"background: #ddd; padding: 0.45em 0.6em; margin: 0 0.25em; line-height: 1; border-radius: 0.35em;\">Francs<span style=\"font-size: 0.8em; font-weight: bold; line-height: 1; border-radius: 0.35em; vertical-align: middle; margin-left: 0.5rem\">CURRENCY</span></mark>, what would be the options  Thanks a lot  <mark class=\"entity\" style=\"background: #aa9cfc; padding: 0.45em 0.6em; margin: 0 0.25em; line-height: 1; border-radius: 0.35em;\">Patrick<span style=\"font-size: 0.8em; font-weight: bold; line-height: 1; border-radius: 0.35em; vertical-align: middle; margin-left: 0.5rem\">PERSON</span></mark></div></span>"
      ],
      "text/plain": [
       "<IPython.core.display.HTML object>"
      ]
     },
     "metadata": {},
     "output_type": "display_data"
    }
   ],
   "source": [
    "displacy.render(docMail, style='ent', minify=True)"
   ]
  },
  {
   "cell_type": "markdown",
   "metadata": {},
   "source": [
    "## Matching some specific patterns\n",
    "\n",
    "#### Sometimes it is not enough to match only entities, for example we have defined the RAM size as 16 GB. So let us see how to detect the memory size automatically"
   ]
  },
  {
   "cell_type": "code",
   "execution_count": 12,
   "metadata": {
    "cell_id": "00011-a3e9ac72-c992-4e9c-baef-4e920200861d",
    "colab": {
     "base_uri": "https://localhost:8080/"
    },
    "deepnote_cell_type": "code",
    "execution_millis": 15,
    "execution_start": 1609338920197,
    "id": "KIMIRSvfpLn4",
    "outputId": "7d2b1736-124b-435b-fd4b-bcd2589bf0d6",
    "output_cleared": false,
    "source_hash": "60181c4c"
   },
   "outputs": [
    {
     "name": "stdout",
     "output_type": "stream",
     "text": [
      "16GB\n",
      "256 GB\n"
     ]
    }
   ],
   "source": [
    "matcher = PhraseMatcher(nlp.vocab)\n",
    "terms = [\"16 GB\",\"256 GB\"]\n",
    "# Only run nlp.make_doc to speed things up\n",
    "patterns = [nlp.make_doc(t) for t in terms]\n",
    "matcher.add(\"MEMORY\", None, *patterns)\n",
    "\n",
    "doc = nlp(text)\n",
    "matches = matcher(doc)\n",
    "for match_id, start, end in matches:\n",
    "    span = doc[start:end]\n",
    "    print(span.text)"
   ]
  },
  {
   "cell_type": "markdown",
   "metadata": {},
   "source": [
    "#### Quite cool, it detected the patterns and matched the text related to memory size. Unfortunately, the issue is that we do not know to what it refers to, so we need to start a different kind of analysis."
   ]
  },
  {
   "cell_type": "markdown",
   "metadata": {},
   "source": [
    "## Dependency Parsing: Identify verbs, modifiers and objects\n",
    "\n",
    "One of the key features of Spacy is its linguistic and predictive features. Indeed, Spacy is able to make a prediction of which tag or label most likely applies in a specific context.\n",
    "\n",
    "Let us start with displaying the result of part of speech tagging and dependency analysis. As we can see below, the code is pretty simple"
   ]
  },
  {
   "cell_type": "code",
   "execution_count": 13,
   "metadata": {
    "cell_id": "00012-62ecbf79-647a-41cf-9c95-ec0ee41d22b7",
    "colab": {
     "base_uri": "https://localhost:8080/"
    },
    "deepnote_cell_type": "code",
    "execution_millis": 20,
    "execution_start": 1609338922134,
    "id": "S6f_65tpdU5B",
    "outputId": "aaa2c503-1cbc-4010-8b5e-220aa3241c7c",
    "output_cleared": false,
    "source_hash": "2d3b82f"
   },
   "outputs": [
    {
     "name": "stdout",
     "output_type": "stream",
     "text": [
      "Hello intj be VERB [,]\n",
      ", punct Hello INTJ []\n",
      "  punct be VERB []\n",
      "I nsubj like VERB []\n",
      "would aux like VERB []\n",
      "like ccomp be VERB [I, would, order]\n",
      "to aux order VERB []\n",
      "order xcomp like VERB [to, notebook]\n",
      "a det notebook NOUN []\n",
      "notebook dobj order VERB [a, with]\n",
      "with prep notebook NOUN [GB, disk]\n",
      "16 nummod GB NOUN []\n",
      "GB pobj with ADP [16, and, GB]\n",
      "and cc GB NOUN []\n",
      "256 nummod GB NOUN []\n",
      "GB conj GB NOUN [256]\n",
      "disk pobj with ADP []\n",
      ", punct be VERB []\n",
      "I nsubj like VERB []\n",
      "would aux like VERB []\n",
      "like ccomp be VERB [I, would, spend]\n",
      "to aux spend VERB []\n",
      "spend xcomp like VERB [to, Francs]\n",
      "less amod 1000 NUM []\n",
      "than quantmod 1000 NUM []\n",
      "1000 nummod Francs NOUN [less, than]\n",
      "Francs dobj spend VERB [1000]\n",
      ", punct be VERB []\n",
      "what attr be VERB []\n",
      "would aux be VERB []\n",
      "be ROOT be VERB [Hello,  , like, ,, like, ,, what, would, options,  , Thanks]\n",
      "the det options NOUN []\n",
      "options attr be VERB [the]\n",
      "  punct be VERB []\n",
      "Thanks attr be VERB [lot]\n",
      "a det lot NOUN []\n",
      "lot npadvmod Thanks NOUN [a]\n",
      "  ROOT   SPACE [Patrick]\n",
      "Patrick npadvmod   SPACE []\n"
     ]
    }
   ],
   "source": [
    "for token in docMail:\n",
    "  print(token.text, token.dep_, token.head.text, token.head.pos_,\n",
    "            [child for child in token.children])"
   ]
  },
  {
   "cell_type": "code",
   "execution_count": 14,
   "metadata": {
    "cell_id": "00013-f063be08-03f2-4516-a364-98f320e3ebba",
    "colab": {
     "base_uri": "https://localhost:8080/",
     "height": 528
    },
    "deepnote_cell_type": "code",
    "execution_millis": 953,
    "execution_start": 1609338927046,
    "id": "7GVukhKHpLoC",
    "outputId": "3c774548-0595-4c42-b9a1-786b90a97226",
    "output_cleared": false,
    "source_hash": "327e68e9"
   },
   "outputs": [
    {
     "data": {
      "text/html": [
       "<span class=\"tex2jax_ignore\"><svg xmlns=\"http://www.w3.org/2000/svg\" xmlns:xlink=\"http://www.w3.org/1999/xlink\" xml:lang=\"en\" id=\"b8c27be099f2411c81c0a47b68ce9cd8-0\" class=\"displacy\" width=\"6350\" height=\"924.5\" direction=\"ltr\" style=\"max-width: none; height: 924.5px; color: #000000; background: #ffffff; font-family: Arial; direction: ltr\"><text class=\"displacy-token\" fill=\"currentColor\" text-anchor=\"middle\" y=\"834.5\"><tspan class=\"displacy-word\" fill=\"currentColor\" x=\"50\">Hello,</tspan><tspan class=\"displacy-tag\" dy=\"2em\" fill=\"currentColor\" x=\"50\">INTJ</tspan></text><text class=\"displacy-token\" fill=\"currentColor\" text-anchor=\"middle\" y=\"834.5\"><tspan class=\"displacy-word\" fill=\"currentColor\" x=\"225\"> </tspan><tspan class=\"displacy-tag\" dy=\"2em\" fill=\"currentColor\" x=\"225\">SPACE</tspan></text><text class=\"displacy-token\" fill=\"currentColor\" text-anchor=\"middle\" y=\"834.5\"><tspan class=\"displacy-word\" fill=\"currentColor\" x=\"400\">I</tspan><tspan class=\"displacy-tag\" dy=\"2em\" fill=\"currentColor\" x=\"400\">PRON</tspan></text><text class=\"displacy-token\" fill=\"currentColor\" text-anchor=\"middle\" y=\"834.5\"><tspan class=\"displacy-word\" fill=\"currentColor\" x=\"575\">would</tspan><tspan class=\"displacy-tag\" dy=\"2em\" fill=\"currentColor\" x=\"575\">AUX</tspan></text><text class=\"displacy-token\" fill=\"currentColor\" text-anchor=\"middle\" y=\"834.5\"><tspan class=\"displacy-word\" fill=\"currentColor\" x=\"750\">like</tspan><tspan class=\"displacy-tag\" dy=\"2em\" fill=\"currentColor\" x=\"750\">VERB</tspan></text><text class=\"displacy-token\" fill=\"currentColor\" text-anchor=\"middle\" y=\"834.5\"><tspan class=\"displacy-word\" fill=\"currentColor\" x=\"925\">to</tspan><tspan class=\"displacy-tag\" dy=\"2em\" fill=\"currentColor\" x=\"925\">PART</tspan></text><text class=\"displacy-token\" fill=\"currentColor\" text-anchor=\"middle\" y=\"834.5\"><tspan class=\"displacy-word\" fill=\"currentColor\" x=\"1100\">order</tspan><tspan class=\"displacy-tag\" dy=\"2em\" fill=\"currentColor\" x=\"1100\">VERB</tspan></text><text class=\"displacy-token\" fill=\"currentColor\" text-anchor=\"middle\" y=\"834.5\"><tspan class=\"displacy-word\" fill=\"currentColor\" x=\"1275\">a</tspan><tspan class=\"displacy-tag\" dy=\"2em\" fill=\"currentColor\" x=\"1275\">DET</tspan></text><text class=\"displacy-token\" fill=\"currentColor\" text-anchor=\"middle\" y=\"834.5\"><tspan class=\"displacy-word\" fill=\"currentColor\" x=\"1450\">notebook</tspan><tspan class=\"displacy-tag\" dy=\"2em\" fill=\"currentColor\" x=\"1450\">NOUN</tspan></text><text class=\"displacy-token\" fill=\"currentColor\" text-anchor=\"middle\" y=\"834.5\"><tspan class=\"displacy-word\" fill=\"currentColor\" x=\"1625\">with</tspan><tspan class=\"displacy-tag\" dy=\"2em\" fill=\"currentColor\" x=\"1625\">ADP</tspan></text><text class=\"displacy-token\" fill=\"currentColor\" text-anchor=\"middle\" y=\"834.5\"><tspan class=\"displacy-word\" fill=\"currentColor\" x=\"1800\">16</tspan><tspan class=\"displacy-tag\" dy=\"2em\" fill=\"currentColor\" x=\"1800\">NUM</tspan></text><text class=\"displacy-token\" fill=\"currentColor\" text-anchor=\"middle\" y=\"834.5\"><tspan class=\"displacy-word\" fill=\"currentColor\" x=\"1975\">GB</tspan><tspan class=\"displacy-tag\" dy=\"2em\" fill=\"currentColor\" x=\"1975\">NOUN</tspan></text><text class=\"displacy-token\" fill=\"currentColor\" text-anchor=\"middle\" y=\"834.5\"><tspan class=\"displacy-word\" fill=\"currentColor\" x=\"2150\">and</tspan><tspan class=\"displacy-tag\" dy=\"2em\" fill=\"currentColor\" x=\"2150\">CCONJ</tspan></text><text class=\"displacy-token\" fill=\"currentColor\" text-anchor=\"middle\" y=\"834.5\"><tspan class=\"displacy-word\" fill=\"currentColor\" x=\"2325\">256</tspan><tspan class=\"displacy-tag\" dy=\"2em\" fill=\"currentColor\" x=\"2325\">NUM</tspan></text><text class=\"displacy-token\" fill=\"currentColor\" text-anchor=\"middle\" y=\"834.5\"><tspan class=\"displacy-word\" fill=\"currentColor\" x=\"2500\">GB</tspan><tspan class=\"displacy-tag\" dy=\"2em\" fill=\"currentColor\" x=\"2500\">NOUN</tspan></text><text class=\"displacy-token\" fill=\"currentColor\" text-anchor=\"middle\" y=\"834.5\"><tspan class=\"displacy-word\" fill=\"currentColor\" x=\"2675\">disk,</tspan><tspan class=\"displacy-tag\" dy=\"2em\" fill=\"currentColor\" x=\"2675\">NOUN</tspan></text><text class=\"displacy-token\" fill=\"currentColor\" text-anchor=\"middle\" y=\"834.5\"><tspan class=\"displacy-word\" fill=\"currentColor\" x=\"2850\">I</tspan><tspan class=\"displacy-tag\" dy=\"2em\" fill=\"currentColor\" x=\"2850\">PRON</tspan></text><text class=\"displacy-token\" fill=\"currentColor\" text-anchor=\"middle\" y=\"834.5\"><tspan class=\"displacy-word\" fill=\"currentColor\" x=\"3025\">would</tspan><tspan class=\"displacy-tag\" dy=\"2em\" fill=\"currentColor\" x=\"3025\">AUX</tspan></text><text class=\"displacy-token\" fill=\"currentColor\" text-anchor=\"middle\" y=\"834.5\"><tspan class=\"displacy-word\" fill=\"currentColor\" x=\"3200\">like</tspan><tspan class=\"displacy-tag\" dy=\"2em\" fill=\"currentColor\" x=\"3200\">VERB</tspan></text><text class=\"displacy-token\" fill=\"currentColor\" text-anchor=\"middle\" y=\"834.5\"><tspan class=\"displacy-word\" fill=\"currentColor\" x=\"3375\">to</tspan><tspan class=\"displacy-tag\" dy=\"2em\" fill=\"currentColor\" x=\"3375\">PART</tspan></text><text class=\"displacy-token\" fill=\"currentColor\" text-anchor=\"middle\" y=\"834.5\"><tspan class=\"displacy-word\" fill=\"currentColor\" x=\"3550\">spend</tspan><tspan class=\"displacy-tag\" dy=\"2em\" fill=\"currentColor\" x=\"3550\">VERB</tspan></text><text class=\"displacy-token\" fill=\"currentColor\" text-anchor=\"middle\" y=\"834.5\"><tspan class=\"displacy-word\" fill=\"currentColor\" x=\"3725\">less</tspan><tspan class=\"displacy-tag\" dy=\"2em\" fill=\"currentColor\" x=\"3725\">ADJ</tspan></text><text class=\"displacy-token\" fill=\"currentColor\" text-anchor=\"middle\" y=\"834.5\"><tspan class=\"displacy-word\" fill=\"currentColor\" x=\"3900\">than</tspan><tspan class=\"displacy-tag\" dy=\"2em\" fill=\"currentColor\" x=\"3900\">SCONJ</tspan></text><text class=\"displacy-token\" fill=\"currentColor\" text-anchor=\"middle\" y=\"834.5\"><tspan class=\"displacy-word\" fill=\"currentColor\" x=\"4075\">1000</tspan><tspan class=\"displacy-tag\" dy=\"2em\" fill=\"currentColor\" x=\"4075\">NUM</tspan></text><text class=\"displacy-token\" fill=\"currentColor\" text-anchor=\"middle\" y=\"834.5\"><tspan class=\"displacy-word\" fill=\"currentColor\" x=\"4250\">Francs,</tspan><tspan class=\"displacy-tag\" dy=\"2em\" fill=\"currentColor\" x=\"4250\">NOUN</tspan></text><text class=\"displacy-token\" fill=\"currentColor\" text-anchor=\"middle\" y=\"834.5\"><tspan class=\"displacy-word\" fill=\"currentColor\" x=\"4425\">what</tspan><tspan class=\"displacy-tag\" dy=\"2em\" fill=\"currentColor\" x=\"4425\">PRON</tspan></text><text class=\"displacy-token\" fill=\"currentColor\" text-anchor=\"middle\" y=\"834.5\"><tspan class=\"displacy-word\" fill=\"currentColor\" x=\"4600\">would</tspan><tspan class=\"displacy-tag\" dy=\"2em\" fill=\"currentColor\" x=\"4600\">AUX</tspan></text><text class=\"displacy-token\" fill=\"currentColor\" text-anchor=\"middle\" y=\"834.5\"><tspan class=\"displacy-word\" fill=\"currentColor\" x=\"4775\">be</tspan><tspan class=\"displacy-tag\" dy=\"2em\" fill=\"currentColor\" x=\"4775\">VERB</tspan></text><text class=\"displacy-token\" fill=\"currentColor\" text-anchor=\"middle\" y=\"834.5\"><tspan class=\"displacy-word\" fill=\"currentColor\" x=\"4950\">the</tspan><tspan class=\"displacy-tag\" dy=\"2em\" fill=\"currentColor\" x=\"4950\">DET</tspan></text><text class=\"displacy-token\" fill=\"currentColor\" text-anchor=\"middle\" y=\"834.5\"><tspan class=\"displacy-word\" fill=\"currentColor\" x=\"5125\">options</tspan><tspan class=\"displacy-tag\" dy=\"2em\" fill=\"currentColor\" x=\"5125\">NOUN</tspan></text><text class=\"displacy-token\" fill=\"currentColor\" text-anchor=\"middle\" y=\"834.5\"><tspan class=\"displacy-word\" fill=\"currentColor\" x=\"5300\"> </tspan><tspan class=\"displacy-tag\" dy=\"2em\" fill=\"currentColor\" x=\"5300\">SPACE</tspan></text><text class=\"displacy-token\" fill=\"currentColor\" text-anchor=\"middle\" y=\"834.5\"><tspan class=\"displacy-word\" fill=\"currentColor\" x=\"5475\">Thanks</tspan><tspan class=\"displacy-tag\" dy=\"2em\" fill=\"currentColor\" x=\"5475\">NOUN</tspan></text><text class=\"displacy-token\" fill=\"currentColor\" text-anchor=\"middle\" y=\"834.5\"><tspan class=\"displacy-word\" fill=\"currentColor\" x=\"5650\">a</tspan><tspan class=\"displacy-tag\" dy=\"2em\" fill=\"currentColor\" x=\"5650\">DET</tspan></text><text class=\"displacy-token\" fill=\"currentColor\" text-anchor=\"middle\" y=\"834.5\"><tspan class=\"displacy-word\" fill=\"currentColor\" x=\"5825\">lot</tspan><tspan class=\"displacy-tag\" dy=\"2em\" fill=\"currentColor\" x=\"5825\">NOUN</tspan></text><text class=\"displacy-token\" fill=\"currentColor\" text-anchor=\"middle\" y=\"834.5\"><tspan class=\"displacy-word\" fill=\"currentColor\" x=\"6000\"> </tspan><tspan class=\"displacy-tag\" dy=\"2em\" fill=\"currentColor\" x=\"6000\">SPACE</tspan></text><text class=\"displacy-token\" fill=\"currentColor\" text-anchor=\"middle\" y=\"834.5\"><tspan class=\"displacy-word\" fill=\"currentColor\" x=\"6175\">Patrick</tspan><tspan class=\"displacy-tag\" dy=\"2em\" fill=\"currentColor\" x=\"6175\">PROPN</tspan></text><g class=\"displacy-arrow\"><path class=\"displacy-arc\" id=\"arrow-b8c27be099f2411c81c0a47b68ce9cd8-0-0\" stroke-width=\"2px\" d=\"M70,789.5 C70,2.0 4775.0,2.0 4775.0,789.5\" fill=\"none\" stroke=\"currentColor\"/><text dy=\"1.25em\" style=\"font-size: 0.8em; letter-spacing: 1px\"><textPath xlink:href=\"#arrow-b8c27be099f2411c81c0a47b68ce9cd8-0-0\" class=\"displacy-label\" startOffset=\"50%\" side=\"left\" fill=\"currentColor\" text-anchor=\"middle\">intj</textPath></text><path class=\"displacy-arrowhead\" d=\"M70,791.5 L62,779.5 78,779.5\" fill=\"currentColor\"/></g><g class=\"displacy-arrow\"><path class=\"displacy-arc\" id=\"arrow-b8c27be099f2411c81c0a47b68ce9cd8-0-1\" stroke-width=\"2px\" d=\"M245,789.5 C245,89.5 4770.0,89.5 4770.0,789.5\" fill=\"none\" stroke=\"currentColor\"/><text dy=\"1.25em\" style=\"font-size: 0.8em; letter-spacing: 1px\"><textPath xlink:href=\"#arrow-b8c27be099f2411c81c0a47b68ce9cd8-0-1\" class=\"displacy-label\" startOffset=\"50%\" side=\"left\" fill=\"currentColor\" text-anchor=\"middle\">punct</textPath></text><path class=\"displacy-arrowhead\" d=\"M245,791.5 L237,779.5 253,779.5\" fill=\"currentColor\"/></g><g class=\"displacy-arrow\"><path class=\"displacy-arc\" id=\"arrow-b8c27be099f2411c81c0a47b68ce9cd8-0-2\" stroke-width=\"2px\" d=\"M420,789.5 C420,614.5 715.0,614.5 715.0,789.5\" fill=\"none\" stroke=\"currentColor\"/><text dy=\"1.25em\" style=\"font-size: 0.8em; letter-spacing: 1px\"><textPath xlink:href=\"#arrow-b8c27be099f2411c81c0a47b68ce9cd8-0-2\" class=\"displacy-label\" startOffset=\"50%\" side=\"left\" fill=\"currentColor\" text-anchor=\"middle\">nsubj</textPath></text><path class=\"displacy-arrowhead\" d=\"M420,791.5 L412,779.5 428,779.5\" fill=\"currentColor\"/></g><g class=\"displacy-arrow\"><path class=\"displacy-arc\" id=\"arrow-b8c27be099f2411c81c0a47b68ce9cd8-0-3\" stroke-width=\"2px\" d=\"M595,789.5 C595,702.0 710.0,702.0 710.0,789.5\" fill=\"none\" stroke=\"currentColor\"/><text dy=\"1.25em\" style=\"font-size: 0.8em; letter-spacing: 1px\"><textPath xlink:href=\"#arrow-b8c27be099f2411c81c0a47b68ce9cd8-0-3\" class=\"displacy-label\" startOffset=\"50%\" side=\"left\" fill=\"currentColor\" text-anchor=\"middle\">aux</textPath></text><path class=\"displacy-arrowhead\" d=\"M595,791.5 L587,779.5 603,779.5\" fill=\"currentColor\"/></g><g class=\"displacy-arrow\"><path class=\"displacy-arc\" id=\"arrow-b8c27be099f2411c81c0a47b68ce9cd8-0-4\" stroke-width=\"2px\" d=\"M770,789.5 C770,177.0 4765.0,177.0 4765.0,789.5\" fill=\"none\" stroke=\"currentColor\"/><text dy=\"1.25em\" style=\"font-size: 0.8em; letter-spacing: 1px\"><textPath xlink:href=\"#arrow-b8c27be099f2411c81c0a47b68ce9cd8-0-4\" class=\"displacy-label\" startOffset=\"50%\" side=\"left\" fill=\"currentColor\" text-anchor=\"middle\">ccomp</textPath></text><path class=\"displacy-arrowhead\" d=\"M770,791.5 L762,779.5 778,779.5\" fill=\"currentColor\"/></g><g class=\"displacy-arrow\"><path class=\"displacy-arc\" id=\"arrow-b8c27be099f2411c81c0a47b68ce9cd8-0-5\" stroke-width=\"2px\" d=\"M945,789.5 C945,702.0 1060.0,702.0 1060.0,789.5\" fill=\"none\" stroke=\"currentColor\"/><text dy=\"1.25em\" style=\"font-size: 0.8em; letter-spacing: 1px\"><textPath xlink:href=\"#arrow-b8c27be099f2411c81c0a47b68ce9cd8-0-5\" class=\"displacy-label\" startOffset=\"50%\" side=\"left\" fill=\"currentColor\" text-anchor=\"middle\">aux</textPath></text><path class=\"displacy-arrowhead\" d=\"M945,791.5 L937,779.5 953,779.5\" fill=\"currentColor\"/></g><g class=\"displacy-arrow\"><path class=\"displacy-arc\" id=\"arrow-b8c27be099f2411c81c0a47b68ce9cd8-0-6\" stroke-width=\"2px\" d=\"M770,789.5 C770,614.5 1065.0,614.5 1065.0,789.5\" fill=\"none\" stroke=\"currentColor\"/><text dy=\"1.25em\" style=\"font-size: 0.8em; letter-spacing: 1px\"><textPath xlink:href=\"#arrow-b8c27be099f2411c81c0a47b68ce9cd8-0-6\" class=\"displacy-label\" startOffset=\"50%\" side=\"left\" fill=\"currentColor\" text-anchor=\"middle\">xcomp</textPath></text><path class=\"displacy-arrowhead\" d=\"M1065.0,791.5 L1073.0,779.5 1057.0,779.5\" fill=\"currentColor\"/></g><g class=\"displacy-arrow\"><path class=\"displacy-arc\" id=\"arrow-b8c27be099f2411c81c0a47b68ce9cd8-0-7\" stroke-width=\"2px\" d=\"M1295,789.5 C1295,702.0 1410.0,702.0 1410.0,789.5\" fill=\"none\" stroke=\"currentColor\"/><text dy=\"1.25em\" style=\"font-size: 0.8em; letter-spacing: 1px\"><textPath xlink:href=\"#arrow-b8c27be099f2411c81c0a47b68ce9cd8-0-7\" class=\"displacy-label\" startOffset=\"50%\" side=\"left\" fill=\"currentColor\" text-anchor=\"middle\">det</textPath></text><path class=\"displacy-arrowhead\" d=\"M1295,791.5 L1287,779.5 1303,779.5\" fill=\"currentColor\"/></g><g class=\"displacy-arrow\"><path class=\"displacy-arc\" id=\"arrow-b8c27be099f2411c81c0a47b68ce9cd8-0-8\" stroke-width=\"2px\" d=\"M1120,789.5 C1120,614.5 1415.0,614.5 1415.0,789.5\" fill=\"none\" stroke=\"currentColor\"/><text dy=\"1.25em\" style=\"font-size: 0.8em; letter-spacing: 1px\"><textPath xlink:href=\"#arrow-b8c27be099f2411c81c0a47b68ce9cd8-0-8\" class=\"displacy-label\" startOffset=\"50%\" side=\"left\" fill=\"currentColor\" text-anchor=\"middle\">dobj</textPath></text><path class=\"displacy-arrowhead\" d=\"M1415.0,791.5 L1423.0,779.5 1407.0,779.5\" fill=\"currentColor\"/></g><g class=\"displacy-arrow\"><path class=\"displacy-arc\" id=\"arrow-b8c27be099f2411c81c0a47b68ce9cd8-0-9\" stroke-width=\"2px\" d=\"M1470,789.5 C1470,702.0 1585.0,702.0 1585.0,789.5\" fill=\"none\" stroke=\"currentColor\"/><text dy=\"1.25em\" style=\"font-size: 0.8em; letter-spacing: 1px\"><textPath xlink:href=\"#arrow-b8c27be099f2411c81c0a47b68ce9cd8-0-9\" class=\"displacy-label\" startOffset=\"50%\" side=\"left\" fill=\"currentColor\" text-anchor=\"middle\">prep</textPath></text><path class=\"displacy-arrowhead\" d=\"M1585.0,791.5 L1593.0,779.5 1577.0,779.5\" fill=\"currentColor\"/></g><g class=\"displacy-arrow\"><path class=\"displacy-arc\" id=\"arrow-b8c27be099f2411c81c0a47b68ce9cd8-0-10\" stroke-width=\"2px\" d=\"M1820,789.5 C1820,702.0 1935.0,702.0 1935.0,789.5\" fill=\"none\" stroke=\"currentColor\"/><text dy=\"1.25em\" style=\"font-size: 0.8em; letter-spacing: 1px\"><textPath xlink:href=\"#arrow-b8c27be099f2411c81c0a47b68ce9cd8-0-10\" class=\"displacy-label\" startOffset=\"50%\" side=\"left\" fill=\"currentColor\" text-anchor=\"middle\">nummod</textPath></text><path class=\"displacy-arrowhead\" d=\"M1820,791.5 L1812,779.5 1828,779.5\" fill=\"currentColor\"/></g><g class=\"displacy-arrow\"><path class=\"displacy-arc\" id=\"arrow-b8c27be099f2411c81c0a47b68ce9cd8-0-11\" stroke-width=\"2px\" d=\"M1645,789.5 C1645,614.5 1940.0,614.5 1940.0,789.5\" fill=\"none\" stroke=\"currentColor\"/><text dy=\"1.25em\" style=\"font-size: 0.8em; letter-spacing: 1px\"><textPath xlink:href=\"#arrow-b8c27be099f2411c81c0a47b68ce9cd8-0-11\" class=\"displacy-label\" startOffset=\"50%\" side=\"left\" fill=\"currentColor\" text-anchor=\"middle\">pobj</textPath></text><path class=\"displacy-arrowhead\" d=\"M1940.0,791.5 L1948.0,779.5 1932.0,779.5\" fill=\"currentColor\"/></g><g class=\"displacy-arrow\"><path class=\"displacy-arc\" id=\"arrow-b8c27be099f2411c81c0a47b68ce9cd8-0-12\" stroke-width=\"2px\" d=\"M1995,789.5 C1995,702.0 2110.0,702.0 2110.0,789.5\" fill=\"none\" stroke=\"currentColor\"/><text dy=\"1.25em\" style=\"font-size: 0.8em; letter-spacing: 1px\"><textPath xlink:href=\"#arrow-b8c27be099f2411c81c0a47b68ce9cd8-0-12\" class=\"displacy-label\" startOffset=\"50%\" side=\"left\" fill=\"currentColor\" text-anchor=\"middle\">cc</textPath></text><path class=\"displacy-arrowhead\" d=\"M2110.0,791.5 L2118.0,779.5 2102.0,779.5\" fill=\"currentColor\"/></g><g class=\"displacy-arrow\"><path class=\"displacy-arc\" id=\"arrow-b8c27be099f2411c81c0a47b68ce9cd8-0-13\" stroke-width=\"2px\" d=\"M2345,789.5 C2345,702.0 2460.0,702.0 2460.0,789.5\" fill=\"none\" stroke=\"currentColor\"/><text dy=\"1.25em\" style=\"font-size: 0.8em; letter-spacing: 1px\"><textPath xlink:href=\"#arrow-b8c27be099f2411c81c0a47b68ce9cd8-0-13\" class=\"displacy-label\" startOffset=\"50%\" side=\"left\" fill=\"currentColor\" text-anchor=\"middle\">nummod</textPath></text><path class=\"displacy-arrowhead\" d=\"M2345,791.5 L2337,779.5 2353,779.5\" fill=\"currentColor\"/></g><g class=\"displacy-arrow\"><path class=\"displacy-arc\" id=\"arrow-b8c27be099f2411c81c0a47b68ce9cd8-0-14\" stroke-width=\"2px\" d=\"M1995,789.5 C1995,527.0 2470.0,527.0 2470.0,789.5\" fill=\"none\" stroke=\"currentColor\"/><text dy=\"1.25em\" style=\"font-size: 0.8em; letter-spacing: 1px\"><textPath xlink:href=\"#arrow-b8c27be099f2411c81c0a47b68ce9cd8-0-14\" class=\"displacy-label\" startOffset=\"50%\" side=\"left\" fill=\"currentColor\" text-anchor=\"middle\">conj</textPath></text><path class=\"displacy-arrowhead\" d=\"M2470.0,791.5 L2478.0,779.5 2462.0,779.5\" fill=\"currentColor\"/></g><g class=\"displacy-arrow\"><path class=\"displacy-arc\" id=\"arrow-b8c27be099f2411c81c0a47b68ce9cd8-0-15\" stroke-width=\"2px\" d=\"M1645,789.5 C1645,352.0 2655.0,352.0 2655.0,789.5\" fill=\"none\" stroke=\"currentColor\"/><text dy=\"1.25em\" style=\"font-size: 0.8em; letter-spacing: 1px\"><textPath xlink:href=\"#arrow-b8c27be099f2411c81c0a47b68ce9cd8-0-15\" class=\"displacy-label\" startOffset=\"50%\" side=\"left\" fill=\"currentColor\" text-anchor=\"middle\">pobj</textPath></text><path class=\"displacy-arrowhead\" d=\"M2655.0,791.5 L2663.0,779.5 2647.0,779.5\" fill=\"currentColor\"/></g><g class=\"displacy-arrow\"><path class=\"displacy-arc\" id=\"arrow-b8c27be099f2411c81c0a47b68ce9cd8-0-16\" stroke-width=\"2px\" d=\"M2870,789.5 C2870,614.5 3165.0,614.5 3165.0,789.5\" fill=\"none\" stroke=\"currentColor\"/><text dy=\"1.25em\" style=\"font-size: 0.8em; letter-spacing: 1px\"><textPath xlink:href=\"#arrow-b8c27be099f2411c81c0a47b68ce9cd8-0-16\" class=\"displacy-label\" startOffset=\"50%\" side=\"left\" fill=\"currentColor\" text-anchor=\"middle\">nsubj</textPath></text><path class=\"displacy-arrowhead\" d=\"M2870,791.5 L2862,779.5 2878,779.5\" fill=\"currentColor\"/></g><g class=\"displacy-arrow\"><path class=\"displacy-arc\" id=\"arrow-b8c27be099f2411c81c0a47b68ce9cd8-0-17\" stroke-width=\"2px\" d=\"M3045,789.5 C3045,702.0 3160.0,702.0 3160.0,789.5\" fill=\"none\" stroke=\"currentColor\"/><text dy=\"1.25em\" style=\"font-size: 0.8em; letter-spacing: 1px\"><textPath xlink:href=\"#arrow-b8c27be099f2411c81c0a47b68ce9cd8-0-17\" class=\"displacy-label\" startOffset=\"50%\" side=\"left\" fill=\"currentColor\" text-anchor=\"middle\">aux</textPath></text><path class=\"displacy-arrowhead\" d=\"M3045,791.5 L3037,779.5 3053,779.5\" fill=\"currentColor\"/></g><g class=\"displacy-arrow\"><path class=\"displacy-arc\" id=\"arrow-b8c27be099f2411c81c0a47b68ce9cd8-0-18\" stroke-width=\"2px\" d=\"M3220,789.5 C3220,264.5 4760.0,264.5 4760.0,789.5\" fill=\"none\" stroke=\"currentColor\"/><text dy=\"1.25em\" style=\"font-size: 0.8em; letter-spacing: 1px\"><textPath xlink:href=\"#arrow-b8c27be099f2411c81c0a47b68ce9cd8-0-18\" class=\"displacy-label\" startOffset=\"50%\" side=\"left\" fill=\"currentColor\" text-anchor=\"middle\">ccomp</textPath></text><path class=\"displacy-arrowhead\" d=\"M3220,791.5 L3212,779.5 3228,779.5\" fill=\"currentColor\"/></g><g class=\"displacy-arrow\"><path class=\"displacy-arc\" id=\"arrow-b8c27be099f2411c81c0a47b68ce9cd8-0-19\" stroke-width=\"2px\" d=\"M3395,789.5 C3395,702.0 3510.0,702.0 3510.0,789.5\" fill=\"none\" stroke=\"currentColor\"/><text dy=\"1.25em\" style=\"font-size: 0.8em; letter-spacing: 1px\"><textPath xlink:href=\"#arrow-b8c27be099f2411c81c0a47b68ce9cd8-0-19\" class=\"displacy-label\" startOffset=\"50%\" side=\"left\" fill=\"currentColor\" text-anchor=\"middle\">aux</textPath></text><path class=\"displacy-arrowhead\" d=\"M3395,791.5 L3387,779.5 3403,779.5\" fill=\"currentColor\"/></g><g class=\"displacy-arrow\"><path class=\"displacy-arc\" id=\"arrow-b8c27be099f2411c81c0a47b68ce9cd8-0-20\" stroke-width=\"2px\" d=\"M3220,789.5 C3220,614.5 3515.0,614.5 3515.0,789.5\" fill=\"none\" stroke=\"currentColor\"/><text dy=\"1.25em\" style=\"font-size: 0.8em; letter-spacing: 1px\"><textPath xlink:href=\"#arrow-b8c27be099f2411c81c0a47b68ce9cd8-0-20\" class=\"displacy-label\" startOffset=\"50%\" side=\"left\" fill=\"currentColor\" text-anchor=\"middle\">xcomp</textPath></text><path class=\"displacy-arrowhead\" d=\"M3515.0,791.5 L3523.0,779.5 3507.0,779.5\" fill=\"currentColor\"/></g><g class=\"displacy-arrow\"><path class=\"displacy-arc\" id=\"arrow-b8c27be099f2411c81c0a47b68ce9cd8-0-21\" stroke-width=\"2px\" d=\"M3745,789.5 C3745,614.5 4040.0,614.5 4040.0,789.5\" fill=\"none\" stroke=\"currentColor\"/><text dy=\"1.25em\" style=\"font-size: 0.8em; letter-spacing: 1px\"><textPath xlink:href=\"#arrow-b8c27be099f2411c81c0a47b68ce9cd8-0-21\" class=\"displacy-label\" startOffset=\"50%\" side=\"left\" fill=\"currentColor\" text-anchor=\"middle\">amod</textPath></text><path class=\"displacy-arrowhead\" d=\"M3745,791.5 L3737,779.5 3753,779.5\" fill=\"currentColor\"/></g><g class=\"displacy-arrow\"><path class=\"displacy-arc\" id=\"arrow-b8c27be099f2411c81c0a47b68ce9cd8-0-22\" stroke-width=\"2px\" d=\"M3920,789.5 C3920,702.0 4035.0,702.0 4035.0,789.5\" fill=\"none\" stroke=\"currentColor\"/><text dy=\"1.25em\" style=\"font-size: 0.8em; letter-spacing: 1px\"><textPath xlink:href=\"#arrow-b8c27be099f2411c81c0a47b68ce9cd8-0-22\" class=\"displacy-label\" startOffset=\"50%\" side=\"left\" fill=\"currentColor\" text-anchor=\"middle\">quantmod</textPath></text><path class=\"displacy-arrowhead\" d=\"M3920,791.5 L3912,779.5 3928,779.5\" fill=\"currentColor\"/></g><g class=\"displacy-arrow\"><path class=\"displacy-arc\" id=\"arrow-b8c27be099f2411c81c0a47b68ce9cd8-0-23\" stroke-width=\"2px\" d=\"M4095,789.5 C4095,702.0 4210.0,702.0 4210.0,789.5\" fill=\"none\" stroke=\"currentColor\"/><text dy=\"1.25em\" style=\"font-size: 0.8em; letter-spacing: 1px\"><textPath xlink:href=\"#arrow-b8c27be099f2411c81c0a47b68ce9cd8-0-23\" class=\"displacy-label\" startOffset=\"50%\" side=\"left\" fill=\"currentColor\" text-anchor=\"middle\">nummod</textPath></text><path class=\"displacy-arrowhead\" d=\"M4095,791.5 L4087,779.5 4103,779.5\" fill=\"currentColor\"/></g><g class=\"displacy-arrow\"><path class=\"displacy-arc\" id=\"arrow-b8c27be099f2411c81c0a47b68ce9cd8-0-24\" stroke-width=\"2px\" d=\"M3570,789.5 C3570,439.5 4225.0,439.5 4225.0,789.5\" fill=\"none\" stroke=\"currentColor\"/><text dy=\"1.25em\" style=\"font-size: 0.8em; letter-spacing: 1px\"><textPath xlink:href=\"#arrow-b8c27be099f2411c81c0a47b68ce9cd8-0-24\" class=\"displacy-label\" startOffset=\"50%\" side=\"left\" fill=\"currentColor\" text-anchor=\"middle\">dobj</textPath></text><path class=\"displacy-arrowhead\" d=\"M4225.0,791.5 L4233.0,779.5 4217.0,779.5\" fill=\"currentColor\"/></g><g class=\"displacy-arrow\"><path class=\"displacy-arc\" id=\"arrow-b8c27be099f2411c81c0a47b68ce9cd8-0-25\" stroke-width=\"2px\" d=\"M4445,789.5 C4445,614.5 4740.0,614.5 4740.0,789.5\" fill=\"none\" stroke=\"currentColor\"/><text dy=\"1.25em\" style=\"font-size: 0.8em; letter-spacing: 1px\"><textPath xlink:href=\"#arrow-b8c27be099f2411c81c0a47b68ce9cd8-0-25\" class=\"displacy-label\" startOffset=\"50%\" side=\"left\" fill=\"currentColor\" text-anchor=\"middle\">attr</textPath></text><path class=\"displacy-arrowhead\" d=\"M4445,791.5 L4437,779.5 4453,779.5\" fill=\"currentColor\"/></g><g class=\"displacy-arrow\"><path class=\"displacy-arc\" id=\"arrow-b8c27be099f2411c81c0a47b68ce9cd8-0-26\" stroke-width=\"2px\" d=\"M4620,789.5 C4620,702.0 4735.0,702.0 4735.0,789.5\" fill=\"none\" stroke=\"currentColor\"/><text dy=\"1.25em\" style=\"font-size: 0.8em; letter-spacing: 1px\"><textPath xlink:href=\"#arrow-b8c27be099f2411c81c0a47b68ce9cd8-0-26\" class=\"displacy-label\" startOffset=\"50%\" side=\"left\" fill=\"currentColor\" text-anchor=\"middle\">aux</textPath></text><path class=\"displacy-arrowhead\" d=\"M4620,791.5 L4612,779.5 4628,779.5\" fill=\"currentColor\"/></g><g class=\"displacy-arrow\"><path class=\"displacy-arc\" id=\"arrow-b8c27be099f2411c81c0a47b68ce9cd8-0-27\" stroke-width=\"2px\" d=\"M4970,789.5 C4970,702.0 5085.0,702.0 5085.0,789.5\" fill=\"none\" stroke=\"currentColor\"/><text dy=\"1.25em\" style=\"font-size: 0.8em; letter-spacing: 1px\"><textPath xlink:href=\"#arrow-b8c27be099f2411c81c0a47b68ce9cd8-0-27\" class=\"displacy-label\" startOffset=\"50%\" side=\"left\" fill=\"currentColor\" text-anchor=\"middle\">det</textPath></text><path class=\"displacy-arrowhead\" d=\"M4970,791.5 L4962,779.5 4978,779.5\" fill=\"currentColor\"/></g><g class=\"displacy-arrow\"><path class=\"displacy-arc\" id=\"arrow-b8c27be099f2411c81c0a47b68ce9cd8-0-28\" stroke-width=\"2px\" d=\"M4795,789.5 C4795,614.5 5090.0,614.5 5090.0,789.5\" fill=\"none\" stroke=\"currentColor\"/><text dy=\"1.25em\" style=\"font-size: 0.8em; letter-spacing: 1px\"><textPath xlink:href=\"#arrow-b8c27be099f2411c81c0a47b68ce9cd8-0-28\" class=\"displacy-label\" startOffset=\"50%\" side=\"left\" fill=\"currentColor\" text-anchor=\"middle\">attr</textPath></text><path class=\"displacy-arrowhead\" d=\"M5090.0,791.5 L5098.0,779.5 5082.0,779.5\" fill=\"currentColor\"/></g><g class=\"displacy-arrow\"><path class=\"displacy-arc\" id=\"arrow-b8c27be099f2411c81c0a47b68ce9cd8-0-29\" stroke-width=\"2px\" d=\"M4795,789.5 C4795,527.0 5270.0,527.0 5270.0,789.5\" fill=\"none\" stroke=\"currentColor\"/><text dy=\"1.25em\" style=\"font-size: 0.8em; letter-spacing: 1px\"><textPath xlink:href=\"#arrow-b8c27be099f2411c81c0a47b68ce9cd8-0-29\" class=\"displacy-label\" startOffset=\"50%\" side=\"left\" fill=\"currentColor\" text-anchor=\"middle\">punct</textPath></text><path class=\"displacy-arrowhead\" d=\"M5270.0,791.5 L5278.0,779.5 5262.0,779.5\" fill=\"currentColor\"/></g><g class=\"displacy-arrow\"><path class=\"displacy-arc\" id=\"arrow-b8c27be099f2411c81c0a47b68ce9cd8-0-30\" stroke-width=\"2px\" d=\"M4795,789.5 C4795,439.5 5450.0,439.5 5450.0,789.5\" fill=\"none\" stroke=\"currentColor\"/><text dy=\"1.25em\" style=\"font-size: 0.8em; letter-spacing: 1px\"><textPath xlink:href=\"#arrow-b8c27be099f2411c81c0a47b68ce9cd8-0-30\" class=\"displacy-label\" startOffset=\"50%\" side=\"left\" fill=\"currentColor\" text-anchor=\"middle\">attr</textPath></text><path class=\"displacy-arrowhead\" d=\"M5450.0,791.5 L5458.0,779.5 5442.0,779.5\" fill=\"currentColor\"/></g><g class=\"displacy-arrow\"><path class=\"displacy-arc\" id=\"arrow-b8c27be099f2411c81c0a47b68ce9cd8-0-31\" stroke-width=\"2px\" d=\"M5670,789.5 C5670,702.0 5785.0,702.0 5785.0,789.5\" fill=\"none\" stroke=\"currentColor\"/><text dy=\"1.25em\" style=\"font-size: 0.8em; letter-spacing: 1px\"><textPath xlink:href=\"#arrow-b8c27be099f2411c81c0a47b68ce9cd8-0-31\" class=\"displacy-label\" startOffset=\"50%\" side=\"left\" fill=\"currentColor\" text-anchor=\"middle\">det</textPath></text><path class=\"displacy-arrowhead\" d=\"M5670,791.5 L5662,779.5 5678,779.5\" fill=\"currentColor\"/></g><g class=\"displacy-arrow\"><path class=\"displacy-arc\" id=\"arrow-b8c27be099f2411c81c0a47b68ce9cd8-0-32\" stroke-width=\"2px\" d=\"M5495,789.5 C5495,614.5 5790.0,614.5 5790.0,789.5\" fill=\"none\" stroke=\"currentColor\"/><text dy=\"1.25em\" style=\"font-size: 0.8em; letter-spacing: 1px\"><textPath xlink:href=\"#arrow-b8c27be099f2411c81c0a47b68ce9cd8-0-32\" class=\"displacy-label\" startOffset=\"50%\" side=\"left\" fill=\"currentColor\" text-anchor=\"middle\">npadvmod</textPath></text><path class=\"displacy-arrowhead\" d=\"M5790.0,791.5 L5798.0,779.5 5782.0,779.5\" fill=\"currentColor\"/></g><g class=\"displacy-arrow\"><path class=\"displacy-arc\" id=\"arrow-b8c27be099f2411c81c0a47b68ce9cd8-0-33\" stroke-width=\"2px\" d=\"M6020,789.5 C6020,702.0 6135.0,702.0 6135.0,789.5\" fill=\"none\" stroke=\"currentColor\"/><text dy=\"1.25em\" style=\"font-size: 0.8em; letter-spacing: 1px\"><textPath xlink:href=\"#arrow-b8c27be099f2411c81c0a47b68ce9cd8-0-33\" class=\"displacy-label\" startOffset=\"50%\" side=\"left\" fill=\"currentColor\" text-anchor=\"middle\">npadvmod</textPath></text><path class=\"displacy-arrowhead\" d=\"M6135.0,791.5 L6143.0,779.5 6127.0,779.5\" fill=\"currentColor\"/></g></svg></span>"
      ],
      "text/plain": [
       "<IPython.core.display.HTML object>"
      ]
     },
     "metadata": {},
     "output_type": "display_data"
    }
   ],
   "source": [
    "displacy.render(docMail, style=\"dep\", minify=True, jupyter=True)"
   ]
  },
  {
   "cell_type": "markdown",
   "metadata": {},
   "source": [
    "#### The result is quite impressive, it shows all predicted tags for each word and the dependency tree with the associated dependency labels. For example ‘I’ is a pronoun and is subject to the verb ‘like’.\n",
    "\n",
    "#### Let us detect the numerical modifiers, as we will need them to identify the memory size required"
   ]
  },
  {
   "cell_type": "code",
   "execution_count": 16,
   "metadata": {
    "cell_id": "00015-8b78808b-101c-43c0-93aa-e48f5afb7dc1",
    "colab": {
     "base_uri": "https://localhost:8080/"
    },
    "deepnote_cell_type": "code",
    "execution_millis": 2,
    "execution_start": 1609338931570,
    "id": "Y1nDnp2adwjE",
    "outputId": "37afdd92-1e7f-4705-b83e-5309fd2d7a00",
    "output_cleared": false,
    "source_hash": "4a31db30"
   },
   "outputs": [
    {
     "name": "stdout",
     "output_type": "stream",
     "text": [
      "Numerical modifier: 16 --> object: GB\n",
      "Numerical modifier: 256 --> object: GB\n",
      "Numerical modifier: 1000 --> object: Francs\n"
     ]
    }
   ],
   "source": [
    "for token in docMail:  \n",
    "    if token.dep_ == 'nummod':    \n",
    "      print(f\"Numerical modifier: {token.text} --> object: {token.head}\")"
   ]
  },
  {
   "cell_type": "markdown",
   "metadata": {},
   "source": [
    "#### This is again quite cool, we can associate quantities to different words in the text."
   ]
  },
  {
   "cell_type": "markdown",
   "metadata": {},
   "source": [
    "## Identifying the action verbs\n",
    "\n",
    "Spacy provides all the required tagging to find the action verbs, we want to know if the customer wants to order something or is just interested by some information for example. Let us iterate through all tokens in the text and search for an open clausal complement ( refer to for all possible dependency tags https://spacy.io/api/annotation#pos-tagging )\n",
    "\n"
   ]
  },
  {
   "cell_type": "code",
   "execution_count": 19,
   "metadata": {
    "cell_id": "00020-0251194b-0caf-40b0-8415-af0f9c29a004",
    "colab": {
     "base_uri": "https://localhost:8080/"
    },
    "deepnote_cell_type": "code",
    "execution_millis": 3,
    "execution_start": 1609338936877,
    "id": "5YKyxgGupLop",
    "outputId": "7b852884-67d7-4224-f230-d318cf4aa5b0",
    "output_cleared": false,
    "source_hash": "54cbc03d"
   },
   "outputs": [
    {
     "name": "stdout",
     "output_type": "stream",
     "text": [
      "{spend, order}\n"
     ]
    }
   ],
   "source": [
    "verbs = set()\n",
    "for possible_verbs in docMail:\n",
    "    if possible_verbs.dep == xcomp and possible_verbs.head.pos == VERB :\n",
    "        verbs.add(possible_verbs)\n",
    "print(verbs)"
   ]
  },
  {
   "cell_type": "markdown",
   "metadata": {},
   "source": [
    "#### We have now identified ‘spend’ and ‘order’ as possible actions in the text. We can also do the same to find objects or items in the text that are the referred to by the client"
   ]
  },
  {
   "cell_type": "markdown",
   "metadata": {},
   "source": [
    "## Identifying items\n",
    "\n",
    "Let us find possible items in the text using the dependency tag ‘dobj’ for direct objects of a verb."
   ]
  },
  {
   "cell_type": "code",
   "execution_count": 20,
   "metadata": {
    "cell_id": "00018-c0e49024-682e-4cab-8a0c-c2bfac7a48bd",
    "colab": {
     "base_uri": "https://localhost:8080/"
    },
    "deepnote_cell_type": "code",
    "execution_millis": 3,
    "execution_start": 1609338934836,
    "id": "x7tD0PhWpLoZ",
    "outputId": "83f5b979-a5de-425b-991d-e3ac82e231c9",
    "output_cleared": false,
    "source_hash": "24ee8e5"
   },
   "outputs": [
    {
     "name": "stdout",
     "output_type": "stream",
     "text": [
      "{notebook, Francs}\n"
     ]
    }
   ],
   "source": [
    "items = set()\n",
    "for possible_item in docMail:\n",
    "    if possible_item.dep == dobj and possible_item.head.pos == VERB:\n",
    "        items.add(possible_item)\n",
    "print(items)"
   ]
  },
  {
   "cell_type": "markdown",
   "metadata": {},
   "source": [
    "#### ‘Francs’ and ‘notebook’ have been found. Now we can think of using word similarities to find what kind of item the client is referring to. We could also use other techniques, but let us try a simple way for now. We will compare similarities between identified obejcts and the word ‘laptop’. The word ‘notebook’ is much closer to ‘laptop’ than Francs."
   ]
  },
  {
   "cell_type": "code",
   "execution_count": 35,
   "metadata": {
    "cell_id": "00019-f7d75f2e-d00d-4b11-87f3-6b367eb3d009",
    "colab": {
     "base_uri": "https://localhost:8080/"
    },
    "deepnote_cell_type": "code",
    "execution_millis": 10,
    "execution_start": 1609338935917,
    "id": "qFTh6iJapLog",
    "outputId": "de0a83f7-ca26-4df1-d479-0ff1b717ed01",
    "output_cleared": false,
    "source_hash": "da3efe24"
   },
   "outputs": [
    {
     "name": "stdout",
     "output_type": "stream",
     "text": [
      "Similarity of notebook to laptop is 0.8022\n",
      "Similarity of Francs to laptop is 0.0016\n"
     ]
    }
   ],
   "source": [
    "import en_core_web_lg\n",
    "nlpwithvectors = en_core_web_lg.load() # we are using the large language model as we need vectors to compute word similarities\n",
    "orderobject=nlpwithvectors(\"laptop\")\n",
    "for  sub in items:\n",
    "  print(f\"Similarity of {sub.text} to laptop is {nlpwithvectors(sub.text).similarity(orderobject):.4f}\")\n"
   ]
  },
  {
   "cell_type": "markdown",
   "metadata": {},
   "source": [
    "#### Finally putting it together, we can think of automatically detecting the required action verb using a heuristic. Let us assume that if the similarity is more than 80%, then we have found the right verb. We then search for the direct object of the similar verb. That could look like this"
   ]
  },
  {
   "cell_type": "code",
   "execution_count": 36,
   "metadata": {
    "cell_id": "00021-3b68677e-2c1a-4326-8178-e1acfb39dbbb",
    "colab": {
     "base_uri": "https://localhost:8080/"
    },
    "deepnote_cell_type": "code",
    "execution_millis": 11,
    "execution_start": 1609338939825,
    "id": "oHNG7j5ApLou",
    "outputId": "22c29c19-bf3b-4e3a-a3a8-264462f052d4",
    "output_cleared": false,
    "source_hash": "f7142e2f"
   },
   "outputs": [
    {
     "name": "stdout",
     "output_type": "stream",
     "text": [
      "notebook\n"
     ]
    }
   ],
   "source": [
    "orderword=nlpwithvectors(\"order\")\n",
    "for  verb in verbs:\n",
    "  if (nlpwithvectors(verb.text).similarity(orderword)) >=0.8:\n",
    "    for v in verb.children:\n",
    "      if v.dep==dobj:\n",
    "        print(v.text)\n"
   ]
  }
 ],
 "metadata": {
  "colab": {
   "name": "Copy of ordermail.ipynb",
   "provenance": []
  },
  "deepnote_execution_queue": [],
  "deepnote_notebook_id": "bf3bd07f-d968-4efb-9bd2-a15d4ab810d1",
  "kernelspec": {
   "display_name": "Python 3",
   "language": "python",
   "name": "python3"
  },
  "language_info": {
   "codemirror_mode": {
    "name": "ipython",
    "version": 3
   },
   "file_extension": ".py",
   "mimetype": "text/x-python",
   "name": "python",
   "nbconvert_exporter": "python",
   "pygments_lexer": "ipython3",
   "version": "3.8.11"
  }
 },
 "nbformat": 4,
 "nbformat_minor": 1
}
