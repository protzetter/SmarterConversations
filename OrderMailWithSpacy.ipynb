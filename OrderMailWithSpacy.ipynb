{
 "cells": [
  {
   "cell_type": "markdown",
   "source": "<img src=\"/work/SmarterConversations/artificial-intelligence.jpg\" style=\"height:400px\">",
   "metadata": {
    "tags": [],
    "cell_id": "00000-4a78e85b-47db-49d3-9f0e-cb178dccc0e1",
    "deepnote_cell_type": "markdown"
   }
  },
  {
   "cell_type": "markdown",
   "source": "# Smarter conversations using Spacy\n\nCreated on March 21st 2020 and updated in August 2021 by Patrick Rotzetter\n\nhttps://www.linkedin.com/in/rotzetter/\n\n**Small experiment for automatic order mail processing**\n",
   "metadata": {
    "tags": [],
    "cell_id": "00000-8b976017-8aa2-4407-bbe0-d681825e8c87",
    "deepnote_cell_type": "markdown"
   }
  },
  {
   "cell_type": "markdown",
   "source": "# Pre-requisites\n\nLet us import required libraries and check that some pre-requisites are met",
   "metadata": {
    "cell_id": "00001-cbba513c-4188-4024-96b1-86778e1ee658",
    "deepnote_cell_type": "markdown"
   }
  },
  {
   "cell_type": "code",
   "metadata": {
    "cell_id": "00001-9cefa3a2-27d4-45d7-839b-14425c812c27",
    "execution_millis": 8375,
    "execution_start": 1628608207701,
    "id": "qPF1dXXBpLm4",
    "output_cleared": false,
    "source_hash": "ed74bd48",
    "deepnote_to_be_reexecuted": false,
    "deepnote_cell_type": "code"
   },
   "source": "# Import libraries\nimport spacy\nfrom spacy.pipeline import EntityRuler\nfrom spacy.matcher import Matcher,PhraseMatcher\nfrom spacy.symbols import nsubj, VERB, dobj, NOUN, root, xcomp\nfrom spacy import displacy\nfrom spacy.matcher import Matcher\nfrom pathlib import Path\nimport random  ",
   "outputs": [
    {
     "name": "stderr",
     "text": "2021-08-10 15:10:10.715574: W tensorflow/stream_executor/platform/default/dso_loader.cc:60] Could not load dynamic library 'libcudart.so.11.0'; dlerror: libcudart.so.11.0: cannot open shared object file: No such file or directory\n2021-08-10 15:10:10.715612: I tensorflow/stream_executor/cuda/cudart_stub.cc:29] Ignore above cudart dlerror if you do not have a GPU set up on your machine.\n",
     "output_type": "stream"
    }
   ],
   "execution_count": null
  },
  {
   "cell_type": "code",
   "metadata": {
    "cell_id": "00003-483e112e-1aad-48e9-9b6b-44d28b4249e9",
    "colab": {
     "base_uri": "https://localhost:8080/"
    },
    "execution_millis": 3104,
    "execution_start": 1628608216079,
    "id": "G0kIIbSlRigk",
    "outputId": "19fce0d5-9c4b-4854-cd35-0938ef946e7f",
    "output_cleared": false,
    "source_hash": "df2211dd",
    "deepnote_to_be_reexecuted": false,
    "deepnote_cell_type": "code"
   },
   "source": "# Let us confirm we have the right Python and spacy version, we never know !\nfrom platform import python_version\nprint(python_version())\n!pip show spacy",
   "outputs": [
    {
     "name": "stdout",
     "text": "3.8.11\nName: spacy\nVersion: 3.1.1\nSummary: Industrial-strength Natural Language Processing (NLP) in Python\nHome-page: https://spacy.io\nAuthor: Explosion\nAuthor-email: contact@explosion.ai\nLicense: MIT\nLocation: /shared-libs/python3.8/py/lib/python3.8/site-packages\nRequires: packaging, srsly, murmurhash, spacy-legacy, thinc, pathy, tqdm, catalogue, blis, pydantic, requests, wasabi, cymem, typer, preshed, setuptools, jinja2, numpy\nRequired-by: spacy-transformers, en-core-web-trf, en-core-web-lg\n",
     "output_type": "stream"
    }
   ],
   "execution_count": null
  },
  {
   "cell_type": "code",
   "metadata": {
    "cell_id": "00004-895b8289-d293-45f8-9c66-a3293c3a7d5a",
    "deepnote_to_be_reexecuted": false,
    "source_hash": "627937a9",
    "execution_start": 1628608223718,
    "execution_millis": 4969,
    "deepnote_cell_type": "code"
   },
   "source": "# validate libraries and models are well installed\n!python -m spacy validate",
   "outputs": [
    {
     "name": "stdout",
     "text": "2021-08-10 15:10:25.428609: W tensorflow/stream_executor/platform/default/dso_loader.cc:60] Could not load dynamic library 'libcudart.so.11.0'; dlerror: libcudart.so.11.0: cannot open shared object file: No such file or directory\n2021-08-10 15:10:25.428644: I tensorflow/stream_executor/cuda/cudart_stub.cc:29] Ignore above cudart dlerror if you do not have a GPU set up on your machine.\n\u001b[2K\u001b[38;5;2m✔ Loaded compatibility table\u001b[0m\n\u001b[1m\n================= Installed pipeline packages (spaCy v3.1.1) =================\u001b[0m\n\u001b[38;5;4mℹ spaCy installation:\n/shared-libs/python3.8/py/lib/python3.8/site-packages/spacy\u001b[0m\n\nNAME              SPACY            VERSION                            \nen_core_web_lg    >=3.1.0,<3.2.0   \u001b[38;5;2m3.1.0\u001b[0m   \u001b[38;5;2m✔\u001b[0m\nen_core_web_trf   >=3.1.0,<3.2.0   \u001b[38;5;2m3.1.0\u001b[0m   \u001b[38;5;2m✔\u001b[0m\n\n",
     "output_type": "stream"
    }
   ],
   "execution_count": null
  },
  {
   "cell_type": "code",
   "metadata": {
    "cell_id": "00004-c116c573-18be-4433-8997-ab696a2dbd99",
    "execution_millis": 2987,
    "execution_start": 1628608235944,
    "id": "GixaCyvwaHTZ",
    "output_cleared": false,
    "source_hash": "dd959645",
    "deepnote_to_be_reexecuted": false,
    "deepnote_cell_type": "code"
   },
   "source": "# load spacy model, in this case we will use the transformer model\n\nimport en_core_web_trf\nnlp = en_core_web_trf.load()",
   "outputs": [],
   "execution_count": null
  },
  {
   "cell_type": "code",
   "metadata": {
    "cell_id": "00006-e170f58b-3eed-40aa-a801-a015de0a7747",
    "colab": {
     "base_uri": "https://localhost:8080/"
    },
    "execution_millis": 9,
    "execution_start": 1628608247613,
    "id": "mlh4tq5ppLnD",
    "outputId": "1be2524a-1438-4453-de6f-801e27860255",
    "output_cleared": false,
    "source_hash": "648f7c7c",
    "deepnote_to_be_reexecuted": false,
    "deepnote_cell_type": "code"
   },
   "source": "#read mail file which contains the possible dialog content\n\ntext = open('ordermail.txt').read().replace('\\n', ' ')\n\nprint(text)\n",
   "outputs": [
    {
     "name": "stdout",
     "text": "Hello,  I would like to order a notebook with 16GB and 256 GB disk, I would like to spend less than 1000 Francs, what would be the options  Thanks a lot  Patrick\n",
     "output_type": "stream"
    }
   ],
   "execution_count": null
  },
  {
   "cell_type": "markdown",
   "source": "# Processing the text content with spacy",
   "metadata": {
    "cell_id": "00007-f964f79a-737f-4847-995b-9bae06f52217",
    "deepnote_cell_type": "markdown"
   }
  },
  {
   "cell_type": "markdown",
   "source": "## Standard Named Entities Recognition\n\nLet us start with named entity recognition and see what Spacy could detect.",
   "metadata": {
    "cell_id": "00008-61207bf3-b8b3-4f7f-9c61-a4024fb830e3",
    "deepnote_cell_type": "markdown"
   }
  },
  {
   "cell_type": "code",
   "metadata": {
    "cell_id": "00007-b352d73d-37bc-43c1-b391-6f1eab67da7b",
    "execution_millis": 318,
    "execution_start": 1628608252055,
    "id": "MM2JLVdDpLnP",
    "output_cleared": false,
    "source_hash": "10bca53f",
    "deepnote_to_be_reexecuted": false,
    "deepnote_cell_type": "code"
   },
   "source": "#process the mail trough standard spacy pipeline\ndocMail=nlp(text)\n",
   "outputs": [],
   "execution_count": null
  },
  {
   "cell_type": "code",
   "metadata": {
    "cell_id": "00008-3b5236ce-b174-4a3a-a8dd-9ac19befd859",
    "colab": {
     "base_uri": "https://localhost:8080/"
    },
    "execution_millis": 4,
    "execution_start": 1628608255169,
    "id": "VfqjYwm-pLnY",
    "outputId": "0c0d80a5-c28a-4d64-9ee0-813346ff8b83",
    "output_cleared": false,
    "source_hash": "b9e545a9",
    "deepnote_to_be_reexecuted": false,
    "deepnote_cell_type": "code"
   },
   "source": "# print text entities detected\nfor ent in docMail.ents :\n    print(ent.text, ent.label_,)\n",
   "outputs": [
    {
     "name": "stdout",
     "text": "16GB QUANTITY\n256 GB QUANTITY\nless than 1000 Francs MONEY\nPatrick PERSON\n",
     "output_type": "stream"
    }
   ],
   "execution_count": null
  },
  {
   "cell_type": "markdown",
   "source": "#### We can also visualize the result directly in the text with highlighted entities.",
   "metadata": {
    "cell_id": "00011-6ede4f82-045b-4d46-b233-826599fc5217",
    "deepnote_cell_type": "markdown"
   }
  },
  {
   "cell_type": "code",
   "metadata": {
    "cell_id": "00012-276aaafb-5408-425b-8596-60d6eed267fc",
    "deepnote_to_be_reexecuted": false,
    "source_hash": "1a140824",
    "execution_start": 1628608269567,
    "execution_millis": 1692,
    "deepnote_cell_type": "code"
   },
   "source": "#Let us visualize the result directly in the text\ndisplacy.render(docMail, style='ent', minify=True)",
   "outputs": [
    {
     "data": {
      "text/plain": "<IPython.core.display.HTML object>",
      "text/html": "<span class=\"tex2jax_ignore\"><div class=\"entities\" style=\"line-height: 2.5; direction: ltr\">Hello,  I would like to order a notebook with <mark class=\"entity\" style=\"background: #e4e7d2; padding: 0.45em 0.6em; margin: 0 0.25em; line-height: 1; border-radius: 0.35em;\">16GB<span style=\"font-size: 0.8em; font-weight: bold; line-height: 1; border-radius: 0.35em; vertical-align: middle; margin-left: 0.5rem\">QUANTITY</span></mark> and <mark class=\"entity\" style=\"background: #e4e7d2; padding: 0.45em 0.6em; margin: 0 0.25em; line-height: 1; border-radius: 0.35em;\">256 GB<span style=\"font-size: 0.8em; font-weight: bold; line-height: 1; border-radius: 0.35em; vertical-align: middle; margin-left: 0.5rem\">QUANTITY</span></mark> disk, I would like to spend <mark class=\"entity\" style=\"background: #e4e7d2; padding: 0.45em 0.6em; margin: 0 0.25em; line-height: 1; border-radius: 0.35em;\">less than 1000 Francs<span style=\"font-size: 0.8em; font-weight: bold; line-height: 1; border-radius: 0.35em; vertical-align: middle; margin-left: 0.5rem\">MONEY</span></mark>, what would be the options  Thanks a lot  <mark class=\"entity\" style=\"background: #aa9cfc; padding: 0.45em 0.6em; margin: 0 0.25em; line-height: 1; border-radius: 0.35em;\">Patrick<span style=\"font-size: 0.8em; font-weight: bold; line-height: 1; border-radius: 0.35em; vertical-align: middle; margin-left: 0.5rem\">PERSON</span></mark></div></span>"
     },
     "metadata": {},
     "output_type": "display_data"
    }
   ],
   "execution_count": null
  },
  {
   "cell_type": "markdown",
   "source": "## Domain specific entities\n\nThe default model does not seem to detect notebook and disk as entities, but identifies the sender as a person and identifies the RAM and disk size as quantities. This is a good start, but still far away from a practical solution. So, let us add some domain specific entities that will help us later on.",
   "metadata": {
    "cell_id": "00013-75d93591-0dfe-4b7c-a8cb-2eb9b7f0b314",
    "deepnote_cell_type": "markdown"
   }
  },
  {
   "cell_type": "code",
   "metadata": {
    "cell_id": "00009-9454f79f-7d54-474e-a591-40faf883b531",
    "execution_millis": 6,
    "execution_start": 1628608273215,
    "id": "ktTxXUv6pLnm",
    "output_cleared": false,
    "source_hash": "d3d16c81",
    "deepnote_to_be_reexecuted": false,
    "deepnote_cell_type": "code"
   },
   "source": "# add domain specific entities and add to the pipeline\npatterns = [{\"label\": \"CURRENCY\", \"pattern\":  [{\"lower\": \"francs\"}]},\n            {\"label\": \"PART\", \"pattern\":  [{\"lower\": \"disk\"}]}]\n\n\nconfig = {\n   \"phrase_matcher_attr\": None,\n   \"validate\": True,\n   \"overwrite_ents\": True,\n   \"ent_id_sep\": \"||\",\n}\nruler=nlp.add_pipe('entity_ruler',config=config)\n",
   "outputs": [],
   "execution_count": null
  },
  {
   "cell_type": "code",
   "metadata": {
    "cell_id": "00015-6859b505-48f2-4cc5-8401-947bd31eddb8",
    "deepnote_to_be_reexecuted": false,
    "source_hash": "a0fd6040",
    "execution_start": 1628608275194,
    "execution_millis": 5,
    "deepnote_cell_type": "code"
   },
   "source": "ruler.add_patterns(patterns)",
   "outputs": [],
   "execution_count": null
  },
  {
   "cell_type": "code",
   "metadata": {
    "cell_id": "00010-1bc279f9-326e-4efa-b41f-3e0f77046320",
    "colab": {
     "base_uri": "https://localhost:8080/"
    },
    "execution_millis": 161,
    "execution_start": 1628608276768,
    "id": "yGXjca-QpLnw",
    "outputId": "ce015e62-7de1-49e2-ee0f-5dc729a5162e",
    "output_cleared": false,
    "source_hash": "204d270d",
    "deepnote_to_be_reexecuted": false,
    "deepnote_cell_type": "code"
   },
   "source": "#process the mail again with added entities\ndocMail=nlp(text)\nfor ents in docMail.ents:\n    # Print the entity text and its label\n    print(ents.text, ents.label_,)\n\n",
   "outputs": [
    {
     "name": "stdout",
     "text": "16GB QUANTITY\n256 GB QUANTITY\ndisk PART\nFrancs CURRENCY\nPatrick PERSON\n",
     "output_type": "stream"
    }
   ],
   "execution_count": null
  },
  {
   "cell_type": "markdown",
   "source": "#### Now the results look a bit better, the model could detect 'disk' and 'francs' for example.",
   "metadata": {
    "cell_id": "00017-94bb6521-4e50-44bf-881f-e665a30e8588",
    "deepnote_cell_type": "markdown"
   }
  },
  {
   "cell_type": "code",
   "metadata": {
    "cell_id": "00014-a9b7a070-633e-4f2d-94b4-128a504f66da",
    "colab": {
     "base_uri": "https://localhost:8080/",
     "height": 109
    },
    "execution_millis": 9,
    "execution_start": 1628608277803,
    "id": "PneiF9bEeN6Y",
    "outputId": "6742ffa1-a9e0-48fc-cc7d-970042baad12",
    "output_cleared": false,
    "source_hash": "def5c09",
    "deepnote_to_be_reexecuted": false,
    "deepnote_cell_type": "code"
   },
   "source": "displacy.render(docMail, style='ent', minify=True)",
   "outputs": [
    {
     "data": {
      "text/plain": "<IPython.core.display.HTML object>",
      "text/html": "<span class=\"tex2jax_ignore\"><div class=\"entities\" style=\"line-height: 2.5; direction: ltr\">Hello,  I would like to order a notebook with <mark class=\"entity\" style=\"background: #e4e7d2; padding: 0.45em 0.6em; margin: 0 0.25em; line-height: 1; border-radius: 0.35em;\">16GB<span style=\"font-size: 0.8em; font-weight: bold; line-height: 1; border-radius: 0.35em; vertical-align: middle; margin-left: 0.5rem\">QUANTITY</span></mark> and <mark class=\"entity\" style=\"background: #e4e7d2; padding: 0.45em 0.6em; margin: 0 0.25em; line-height: 1; border-radius: 0.35em;\">256 GB<span style=\"font-size: 0.8em; font-weight: bold; line-height: 1; border-radius: 0.35em; vertical-align: middle; margin-left: 0.5rem\">QUANTITY</span></mark> <mark class=\"entity\" style=\"background: #ddd; padding: 0.45em 0.6em; margin: 0 0.25em; line-height: 1; border-radius: 0.35em;\">disk<span style=\"font-size: 0.8em; font-weight: bold; line-height: 1; border-radius: 0.35em; vertical-align: middle; margin-left: 0.5rem\">PART</span></mark>, I would like to spend less than 1000 <mark class=\"entity\" style=\"background: #ddd; padding: 0.45em 0.6em; margin: 0 0.25em; line-height: 1; border-radius: 0.35em;\">Francs<span style=\"font-size: 0.8em; font-weight: bold; line-height: 1; border-radius: 0.35em; vertical-align: middle; margin-left: 0.5rem\">CURRENCY</span></mark>, what would be the options  Thanks a lot  <mark class=\"entity\" style=\"background: #aa9cfc; padding: 0.45em 0.6em; margin: 0 0.25em; line-height: 1; border-radius: 0.35em;\">Patrick<span style=\"font-size: 0.8em; font-weight: bold; line-height: 1; border-radius: 0.35em; vertical-align: middle; margin-left: 0.5rem\">PERSON</span></mark></div></span>"
     },
     "metadata": {},
     "output_type": "display_data"
    }
   ],
   "execution_count": null
  },
  {
   "cell_type": "markdown",
   "source": "## Matching some specific patterns\n\n#### Sometimes it is not enough to match only entities, for example we have defined the RAM size as 16 GB. So let us see how to detect the memory size automatically",
   "metadata": {
    "cell_id": "00019-5447f79b-bc5a-426d-8aed-8edadb083b26",
    "deepnote_cell_type": "markdown"
   }
  },
  {
   "cell_type": "code",
   "metadata": {
    "cell_id": "00011-a3e9ac72-c992-4e9c-baef-4e920200861d",
    "colab": {
     "base_uri": "https://localhost:8080/"
    },
    "execution_millis": 147,
    "execution_start": 1628608278912,
    "id": "KIMIRSvfpLn4",
    "outputId": "7d2b1736-124b-435b-fd4b-bcd2589bf0d6",
    "output_cleared": false,
    "source_hash": "60181c4c",
    "deepnote_to_be_reexecuted": false,
    "deepnote_cell_type": "code"
   },
   "source": "matcher = PhraseMatcher(nlp.vocab)\nterms = [\"16 GB\",\"256 GB\"]\n# Only run nlp.make_doc to speed things up\npatterns = [nlp.make_doc(t) for t in terms]\nmatcher.add(\"MEMORY\", None, *patterns)\n\ndoc = nlp(text)\nmatches = matcher(doc)\nfor match_id, start, end in matches:\n    span = doc[start:end]\n    print(span.text)",
   "outputs": [
    {
     "name": "stdout",
     "text": "16GB\n256 GB\n",
     "output_type": "stream"
    }
   ],
   "execution_count": null
  },
  {
   "cell_type": "markdown",
   "source": "#### Quite cool, it detected the patterns and matched the text related to memory size. Unfortunately, the issue is that we do not know to what it refers to, so we need to start a different kind of analysis.",
   "metadata": {
    "cell_id": "00021-ac4167c1-c352-4225-8140-10f379720bde",
    "deepnote_cell_type": "markdown"
   }
  },
  {
   "cell_type": "markdown",
   "source": "## Dependency Parsing: Identify verbs, modifiers and objects\n\nOne of the key features of Spacy is its linguistic and predictive features. Indeed, Spacy is able to make a prediction of which tag or label most likely applies in a specific context.\n\nLet us start with displaying the result of part of speech tagging and dependency analysis. As we can see below, the code is pretty simple",
   "metadata": {
    "cell_id": "00022-7ac189b5-0769-44ed-9273-4162f1c43396",
    "deepnote_cell_type": "markdown"
   }
  },
  {
   "cell_type": "code",
   "metadata": {
    "cell_id": "00012-62ecbf79-647a-41cf-9c95-ec0ee41d22b7",
    "colab": {
     "base_uri": "https://localhost:8080/"
    },
    "execution_millis": 28,
    "execution_start": 1628608280477,
    "id": "S6f_65tpdU5B",
    "outputId": "aaa2c503-1cbc-4010-8b5e-220aa3241c7c",
    "output_cleared": false,
    "source_hash": "2d3b82f",
    "deepnote_to_be_reexecuted": false,
    "deepnote_cell_type": "code"
   },
   "source": "for token in docMail:\n  print(token.text, token.dep_, token.head.text, token.head.pos_,\n            [child for child in token.children])",
   "outputs": [
    {
     "name": "stdout",
     "text": "Hello intj be VERB [,]\n, punct Hello INTJ []\n  punct be VERB []\nI nsubj like VERB []\nwould aux like VERB []\nlike ccomp be VERB [I, would, order]\nto aux order VERB []\norder xcomp like VERB [to, notebook]\na det notebook NOUN []\nnotebook dobj order VERB [a, with]\nwith prep notebook NOUN [GB, disk]\n16 nummod GB NOUN []\nGB pobj with ADP [16, and, GB]\nand cc GB NOUN []\n256 nummod GB NOUN []\nGB conj GB NOUN [256]\ndisk pobj with ADP []\n, punct be VERB []\nI nsubj like VERB []\nwould aux like VERB []\nlike ccomp be VERB [I, would, spend]\nto aux spend VERB []\nspend xcomp like VERB [to, Francs]\nless amod 1000 NUM []\nthan quantmod 1000 NUM []\n1000 nummod Francs NOUN [less, than]\nFrancs dobj spend VERB [1000]\n, punct be VERB []\nwhat attr be VERB []\nwould aux be VERB []\nbe ROOT be VERB [Hello,  , like, ,, like, ,, what, would, options,  , Thanks]\nthe det options NOUN []\noptions attr be VERB [the]\n  punct be VERB []\nThanks attr be VERB [lot]\na det lot NOUN []\nlot npadvmod Thanks NOUN [a]\n  ROOT   SPACE [Patrick]\nPatrick npadvmod   SPACE []\n",
     "output_type": "stream"
    }
   ],
   "execution_count": null
  },
  {
   "cell_type": "code",
   "metadata": {
    "cell_id": "00013-f063be08-03f2-4516-a364-98f320e3ebba",
    "colab": {
     "base_uri": "https://localhost:8080/",
     "height": 528
    },
    "execution_millis": 8,
    "execution_start": 1628608280978,
    "id": "7GVukhKHpLoC",
    "outputId": "3c774548-0595-4c42-b9a1-786b90a97226",
    "output_cleared": false,
    "source_hash": "327e68e9",
    "deepnote_to_be_reexecuted": false,
    "deepnote_cell_type": "code"
   },
   "source": "displacy.render(docMail, style=\"dep\", minify=True, jupyter=True)",
   "outputs": [
    {
     "data": {
      "text/plain": "<IPython.core.display.HTML object>",
      "text/html": "<span class=\"tex2jax_ignore\"><svg xmlns=\"http://www.w3.org/2000/svg\" xmlns:xlink=\"http://www.w3.org/1999/xlink\" xml:lang=\"en\" id=\"c3ca51dc268b45e9b2d624c2dad07e3b-0\" class=\"displacy\" width=\"6350\" height=\"924.5\" direction=\"ltr\" style=\"max-width: none; height: 924.5px; color: #000000; background: #ffffff; font-family: Arial; direction: ltr\"><text class=\"displacy-token\" fill=\"currentColor\" text-anchor=\"middle\" y=\"834.5\"><tspan class=\"displacy-word\" fill=\"currentColor\" x=\"50\">Hello,</tspan><tspan class=\"displacy-tag\" dy=\"2em\" fill=\"currentColor\" x=\"50\">INTJ</tspan></text><text class=\"displacy-token\" fill=\"currentColor\" text-anchor=\"middle\" y=\"834.5\"><tspan class=\"displacy-word\" fill=\"currentColor\" x=\"225\"> </tspan><tspan class=\"displacy-tag\" dy=\"2em\" fill=\"currentColor\" x=\"225\">SPACE</tspan></text><text class=\"displacy-token\" fill=\"currentColor\" text-anchor=\"middle\" y=\"834.5\"><tspan class=\"displacy-word\" fill=\"currentColor\" x=\"400\">I</tspan><tspan class=\"displacy-tag\" dy=\"2em\" fill=\"currentColor\" x=\"400\">PRON</tspan></text><text class=\"displacy-token\" fill=\"currentColor\" text-anchor=\"middle\" y=\"834.5\"><tspan class=\"displacy-word\" fill=\"currentColor\" x=\"575\">would</tspan><tspan class=\"displacy-tag\" dy=\"2em\" fill=\"currentColor\" x=\"575\">AUX</tspan></text><text class=\"displacy-token\" fill=\"currentColor\" text-anchor=\"middle\" y=\"834.5\"><tspan class=\"displacy-word\" fill=\"currentColor\" x=\"750\">like</tspan><tspan class=\"displacy-tag\" dy=\"2em\" fill=\"currentColor\" x=\"750\">VERB</tspan></text><text class=\"displacy-token\" fill=\"currentColor\" text-anchor=\"middle\" y=\"834.5\"><tspan class=\"displacy-word\" fill=\"currentColor\" x=\"925\">to</tspan><tspan class=\"displacy-tag\" dy=\"2em\" fill=\"currentColor\" x=\"925\">PART</tspan></text><text class=\"displacy-token\" fill=\"currentColor\" text-anchor=\"middle\" y=\"834.5\"><tspan class=\"displacy-word\" fill=\"currentColor\" x=\"1100\">order</tspan><tspan class=\"displacy-tag\" dy=\"2em\" fill=\"currentColor\" x=\"1100\">VERB</tspan></text><text class=\"displacy-token\" fill=\"currentColor\" text-anchor=\"middle\" y=\"834.5\"><tspan class=\"displacy-word\" fill=\"currentColor\" x=\"1275\">a</tspan><tspan class=\"displacy-tag\" dy=\"2em\" fill=\"currentColor\" x=\"1275\">DET</tspan></text><text class=\"displacy-token\" fill=\"currentColor\" text-anchor=\"middle\" y=\"834.5\"><tspan class=\"displacy-word\" fill=\"currentColor\" x=\"1450\">notebook</tspan><tspan class=\"displacy-tag\" dy=\"2em\" fill=\"currentColor\" x=\"1450\">NOUN</tspan></text><text class=\"displacy-token\" fill=\"currentColor\" text-anchor=\"middle\" y=\"834.5\"><tspan class=\"displacy-word\" fill=\"currentColor\" x=\"1625\">with</tspan><tspan class=\"displacy-tag\" dy=\"2em\" fill=\"currentColor\" x=\"1625\">ADP</tspan></text><text class=\"displacy-token\" fill=\"currentColor\" text-anchor=\"middle\" y=\"834.5\"><tspan class=\"displacy-word\" fill=\"currentColor\" x=\"1800\">16</tspan><tspan class=\"displacy-tag\" dy=\"2em\" fill=\"currentColor\" x=\"1800\">NUM</tspan></text><text class=\"displacy-token\" fill=\"currentColor\" text-anchor=\"middle\" y=\"834.5\"><tspan class=\"displacy-word\" fill=\"currentColor\" x=\"1975\">GB</tspan><tspan class=\"displacy-tag\" dy=\"2em\" fill=\"currentColor\" x=\"1975\">NOUN</tspan></text><text class=\"displacy-token\" fill=\"currentColor\" text-anchor=\"middle\" y=\"834.5\"><tspan class=\"displacy-word\" fill=\"currentColor\" x=\"2150\">and</tspan><tspan class=\"displacy-tag\" dy=\"2em\" fill=\"currentColor\" x=\"2150\">CCONJ</tspan></text><text class=\"displacy-token\" fill=\"currentColor\" text-anchor=\"middle\" y=\"834.5\"><tspan class=\"displacy-word\" fill=\"currentColor\" x=\"2325\">256</tspan><tspan class=\"displacy-tag\" dy=\"2em\" fill=\"currentColor\" x=\"2325\">NUM</tspan></text><text class=\"displacy-token\" fill=\"currentColor\" text-anchor=\"middle\" y=\"834.5\"><tspan class=\"displacy-word\" fill=\"currentColor\" x=\"2500\">GB</tspan><tspan class=\"displacy-tag\" dy=\"2em\" fill=\"currentColor\" x=\"2500\">NOUN</tspan></text><text class=\"displacy-token\" fill=\"currentColor\" text-anchor=\"middle\" y=\"834.5\"><tspan class=\"displacy-word\" fill=\"currentColor\" x=\"2675\">disk,</tspan><tspan class=\"displacy-tag\" dy=\"2em\" fill=\"currentColor\" x=\"2675\">NOUN</tspan></text><text class=\"displacy-token\" fill=\"currentColor\" text-anchor=\"middle\" y=\"834.5\"><tspan class=\"displacy-word\" fill=\"currentColor\" x=\"2850\">I</tspan><tspan class=\"displacy-tag\" dy=\"2em\" fill=\"currentColor\" x=\"2850\">PRON</tspan></text><text class=\"displacy-token\" fill=\"currentColor\" text-anchor=\"middle\" y=\"834.5\"><tspan class=\"displacy-word\" fill=\"currentColor\" x=\"3025\">would</tspan><tspan class=\"displacy-tag\" dy=\"2em\" fill=\"currentColor\" x=\"3025\">AUX</tspan></text><text class=\"displacy-token\" fill=\"currentColor\" text-anchor=\"middle\" y=\"834.5\"><tspan class=\"displacy-word\" fill=\"currentColor\" x=\"3200\">like</tspan><tspan class=\"displacy-tag\" dy=\"2em\" fill=\"currentColor\" x=\"3200\">VERB</tspan></text><text class=\"displacy-token\" fill=\"currentColor\" text-anchor=\"middle\" y=\"834.5\"><tspan class=\"displacy-word\" fill=\"currentColor\" x=\"3375\">to</tspan><tspan class=\"displacy-tag\" dy=\"2em\" fill=\"currentColor\" x=\"3375\">PART</tspan></text><text class=\"displacy-token\" fill=\"currentColor\" text-anchor=\"middle\" y=\"834.5\"><tspan class=\"displacy-word\" fill=\"currentColor\" x=\"3550\">spend</tspan><tspan class=\"displacy-tag\" dy=\"2em\" fill=\"currentColor\" x=\"3550\">VERB</tspan></text><text class=\"displacy-token\" fill=\"currentColor\" text-anchor=\"middle\" y=\"834.5\"><tspan class=\"displacy-word\" fill=\"currentColor\" x=\"3725\">less</tspan><tspan class=\"displacy-tag\" dy=\"2em\" fill=\"currentColor\" x=\"3725\">ADJ</tspan></text><text class=\"displacy-token\" fill=\"currentColor\" text-anchor=\"middle\" y=\"834.5\"><tspan class=\"displacy-word\" fill=\"currentColor\" x=\"3900\">than</tspan><tspan class=\"displacy-tag\" dy=\"2em\" fill=\"currentColor\" x=\"3900\">SCONJ</tspan></text><text class=\"displacy-token\" fill=\"currentColor\" text-anchor=\"middle\" y=\"834.5\"><tspan class=\"displacy-word\" fill=\"currentColor\" x=\"4075\">1000</tspan><tspan class=\"displacy-tag\" dy=\"2em\" fill=\"currentColor\" x=\"4075\">NUM</tspan></text><text class=\"displacy-token\" fill=\"currentColor\" text-anchor=\"middle\" y=\"834.5\"><tspan class=\"displacy-word\" fill=\"currentColor\" x=\"4250\">Francs,</tspan><tspan class=\"displacy-tag\" dy=\"2em\" fill=\"currentColor\" x=\"4250\">NOUN</tspan></text><text class=\"displacy-token\" fill=\"currentColor\" text-anchor=\"middle\" y=\"834.5\"><tspan class=\"displacy-word\" fill=\"currentColor\" x=\"4425\">what</tspan><tspan class=\"displacy-tag\" dy=\"2em\" fill=\"currentColor\" x=\"4425\">PRON</tspan></text><text class=\"displacy-token\" fill=\"currentColor\" text-anchor=\"middle\" y=\"834.5\"><tspan class=\"displacy-word\" fill=\"currentColor\" x=\"4600\">would</tspan><tspan class=\"displacy-tag\" dy=\"2em\" fill=\"currentColor\" x=\"4600\">AUX</tspan></text><text class=\"displacy-token\" fill=\"currentColor\" text-anchor=\"middle\" y=\"834.5\"><tspan class=\"displacy-word\" fill=\"currentColor\" x=\"4775\">be</tspan><tspan class=\"displacy-tag\" dy=\"2em\" fill=\"currentColor\" x=\"4775\">VERB</tspan></text><text class=\"displacy-token\" fill=\"currentColor\" text-anchor=\"middle\" y=\"834.5\"><tspan class=\"displacy-word\" fill=\"currentColor\" x=\"4950\">the</tspan><tspan class=\"displacy-tag\" dy=\"2em\" fill=\"currentColor\" x=\"4950\">DET</tspan></text><text class=\"displacy-token\" fill=\"currentColor\" text-anchor=\"middle\" y=\"834.5\"><tspan class=\"displacy-word\" fill=\"currentColor\" x=\"5125\">options</tspan><tspan class=\"displacy-tag\" dy=\"2em\" fill=\"currentColor\" x=\"5125\">NOUN</tspan></text><text class=\"displacy-token\" fill=\"currentColor\" text-anchor=\"middle\" y=\"834.5\"><tspan class=\"displacy-word\" fill=\"currentColor\" x=\"5300\"> </tspan><tspan class=\"displacy-tag\" dy=\"2em\" fill=\"currentColor\" x=\"5300\">SPACE</tspan></text><text class=\"displacy-token\" fill=\"currentColor\" text-anchor=\"middle\" y=\"834.5\"><tspan class=\"displacy-word\" fill=\"currentColor\" x=\"5475\">Thanks</tspan><tspan class=\"displacy-tag\" dy=\"2em\" fill=\"currentColor\" x=\"5475\">NOUN</tspan></text><text class=\"displacy-token\" fill=\"currentColor\" text-anchor=\"middle\" y=\"834.5\"><tspan class=\"displacy-word\" fill=\"currentColor\" x=\"5650\">a</tspan><tspan class=\"displacy-tag\" dy=\"2em\" fill=\"currentColor\" x=\"5650\">DET</tspan></text><text class=\"displacy-token\" fill=\"currentColor\" text-anchor=\"middle\" y=\"834.5\"><tspan class=\"displacy-word\" fill=\"currentColor\" x=\"5825\">lot</tspan><tspan class=\"displacy-tag\" dy=\"2em\" fill=\"currentColor\" x=\"5825\">NOUN</tspan></text><text class=\"displacy-token\" fill=\"currentColor\" text-anchor=\"middle\" y=\"834.5\"><tspan class=\"displacy-word\" fill=\"currentColor\" x=\"6000\"> </tspan><tspan class=\"displacy-tag\" dy=\"2em\" fill=\"currentColor\" x=\"6000\">SPACE</tspan></text><text class=\"displacy-token\" fill=\"currentColor\" text-anchor=\"middle\" y=\"834.5\"><tspan class=\"displacy-word\" fill=\"currentColor\" x=\"6175\">Patrick</tspan><tspan class=\"displacy-tag\" dy=\"2em\" fill=\"currentColor\" x=\"6175\">PROPN</tspan></text><g class=\"displacy-arrow\"><path class=\"displacy-arc\" id=\"arrow-c3ca51dc268b45e9b2d624c2dad07e3b-0-0\" stroke-width=\"2px\" d=\"M70,789.5 C70,2.0 4775.0,2.0 4775.0,789.5\" fill=\"none\" stroke=\"currentColor\"/><text dy=\"1.25em\" style=\"font-size: 0.8em; letter-spacing: 1px\"><textPath xlink:href=\"#arrow-c3ca51dc268b45e9b2d624c2dad07e3b-0-0\" class=\"displacy-label\" startOffset=\"50%\" side=\"left\" fill=\"currentColor\" text-anchor=\"middle\">intj</textPath></text><path class=\"displacy-arrowhead\" d=\"M70,791.5 L62,779.5 78,779.5\" fill=\"currentColor\"/></g><g class=\"displacy-arrow\"><path class=\"displacy-arc\" id=\"arrow-c3ca51dc268b45e9b2d624c2dad07e3b-0-1\" stroke-width=\"2px\" d=\"M245,789.5 C245,89.5 4770.0,89.5 4770.0,789.5\" fill=\"none\" stroke=\"currentColor\"/><text dy=\"1.25em\" style=\"font-size: 0.8em; letter-spacing: 1px\"><textPath xlink:href=\"#arrow-c3ca51dc268b45e9b2d624c2dad07e3b-0-1\" class=\"displacy-label\" startOffset=\"50%\" side=\"left\" fill=\"currentColor\" text-anchor=\"middle\">punct</textPath></text><path class=\"displacy-arrowhead\" d=\"M245,791.5 L237,779.5 253,779.5\" fill=\"currentColor\"/></g><g class=\"displacy-arrow\"><path class=\"displacy-arc\" id=\"arrow-c3ca51dc268b45e9b2d624c2dad07e3b-0-2\" stroke-width=\"2px\" d=\"M420,789.5 C420,614.5 715.0,614.5 715.0,789.5\" fill=\"none\" stroke=\"currentColor\"/><text dy=\"1.25em\" style=\"font-size: 0.8em; letter-spacing: 1px\"><textPath xlink:href=\"#arrow-c3ca51dc268b45e9b2d624c2dad07e3b-0-2\" class=\"displacy-label\" startOffset=\"50%\" side=\"left\" fill=\"currentColor\" text-anchor=\"middle\">nsubj</textPath></text><path class=\"displacy-arrowhead\" d=\"M420,791.5 L412,779.5 428,779.5\" fill=\"currentColor\"/></g><g class=\"displacy-arrow\"><path class=\"displacy-arc\" id=\"arrow-c3ca51dc268b45e9b2d624c2dad07e3b-0-3\" stroke-width=\"2px\" d=\"M595,789.5 C595,702.0 710.0,702.0 710.0,789.5\" fill=\"none\" stroke=\"currentColor\"/><text dy=\"1.25em\" style=\"font-size: 0.8em; letter-spacing: 1px\"><textPath xlink:href=\"#arrow-c3ca51dc268b45e9b2d624c2dad07e3b-0-3\" class=\"displacy-label\" startOffset=\"50%\" side=\"left\" fill=\"currentColor\" text-anchor=\"middle\">aux</textPath></text><path class=\"displacy-arrowhead\" d=\"M595,791.5 L587,779.5 603,779.5\" fill=\"currentColor\"/></g><g class=\"displacy-arrow\"><path class=\"displacy-arc\" id=\"arrow-c3ca51dc268b45e9b2d624c2dad07e3b-0-4\" stroke-width=\"2px\" d=\"M770,789.5 C770,177.0 4765.0,177.0 4765.0,789.5\" fill=\"none\" stroke=\"currentColor\"/><text dy=\"1.25em\" style=\"font-size: 0.8em; letter-spacing: 1px\"><textPath xlink:href=\"#arrow-c3ca51dc268b45e9b2d624c2dad07e3b-0-4\" class=\"displacy-label\" startOffset=\"50%\" side=\"left\" fill=\"currentColor\" text-anchor=\"middle\">ccomp</textPath></text><path class=\"displacy-arrowhead\" d=\"M770,791.5 L762,779.5 778,779.5\" fill=\"currentColor\"/></g><g class=\"displacy-arrow\"><path class=\"displacy-arc\" id=\"arrow-c3ca51dc268b45e9b2d624c2dad07e3b-0-5\" stroke-width=\"2px\" d=\"M945,789.5 C945,702.0 1060.0,702.0 1060.0,789.5\" fill=\"none\" stroke=\"currentColor\"/><text dy=\"1.25em\" style=\"font-size: 0.8em; letter-spacing: 1px\"><textPath xlink:href=\"#arrow-c3ca51dc268b45e9b2d624c2dad07e3b-0-5\" class=\"displacy-label\" startOffset=\"50%\" side=\"left\" fill=\"currentColor\" text-anchor=\"middle\">aux</textPath></text><path class=\"displacy-arrowhead\" d=\"M945,791.5 L937,779.5 953,779.5\" fill=\"currentColor\"/></g><g class=\"displacy-arrow\"><path class=\"displacy-arc\" id=\"arrow-c3ca51dc268b45e9b2d624c2dad07e3b-0-6\" stroke-width=\"2px\" d=\"M770,789.5 C770,614.5 1065.0,614.5 1065.0,789.5\" fill=\"none\" stroke=\"currentColor\"/><text dy=\"1.25em\" style=\"font-size: 0.8em; letter-spacing: 1px\"><textPath xlink:href=\"#arrow-c3ca51dc268b45e9b2d624c2dad07e3b-0-6\" class=\"displacy-label\" startOffset=\"50%\" side=\"left\" fill=\"currentColor\" text-anchor=\"middle\">xcomp</textPath></text><path class=\"displacy-arrowhead\" d=\"M1065.0,791.5 L1073.0,779.5 1057.0,779.5\" fill=\"currentColor\"/></g><g class=\"displacy-arrow\"><path class=\"displacy-arc\" id=\"arrow-c3ca51dc268b45e9b2d624c2dad07e3b-0-7\" stroke-width=\"2px\" d=\"M1295,789.5 C1295,702.0 1410.0,702.0 1410.0,789.5\" fill=\"none\" stroke=\"currentColor\"/><text dy=\"1.25em\" style=\"font-size: 0.8em; letter-spacing: 1px\"><textPath xlink:href=\"#arrow-c3ca51dc268b45e9b2d624c2dad07e3b-0-7\" class=\"displacy-label\" startOffset=\"50%\" side=\"left\" fill=\"currentColor\" text-anchor=\"middle\">det</textPath></text><path class=\"displacy-arrowhead\" d=\"M1295,791.5 L1287,779.5 1303,779.5\" fill=\"currentColor\"/></g><g class=\"displacy-arrow\"><path class=\"displacy-arc\" id=\"arrow-c3ca51dc268b45e9b2d624c2dad07e3b-0-8\" stroke-width=\"2px\" d=\"M1120,789.5 C1120,614.5 1415.0,614.5 1415.0,789.5\" fill=\"none\" stroke=\"currentColor\"/><text dy=\"1.25em\" style=\"font-size: 0.8em; letter-spacing: 1px\"><textPath xlink:href=\"#arrow-c3ca51dc268b45e9b2d624c2dad07e3b-0-8\" class=\"displacy-label\" startOffset=\"50%\" side=\"left\" fill=\"currentColor\" text-anchor=\"middle\">dobj</textPath></text><path class=\"displacy-arrowhead\" d=\"M1415.0,791.5 L1423.0,779.5 1407.0,779.5\" fill=\"currentColor\"/></g><g class=\"displacy-arrow\"><path class=\"displacy-arc\" id=\"arrow-c3ca51dc268b45e9b2d624c2dad07e3b-0-9\" stroke-width=\"2px\" d=\"M1470,789.5 C1470,702.0 1585.0,702.0 1585.0,789.5\" fill=\"none\" stroke=\"currentColor\"/><text dy=\"1.25em\" style=\"font-size: 0.8em; letter-spacing: 1px\"><textPath xlink:href=\"#arrow-c3ca51dc268b45e9b2d624c2dad07e3b-0-9\" class=\"displacy-label\" startOffset=\"50%\" side=\"left\" fill=\"currentColor\" text-anchor=\"middle\">prep</textPath></text><path class=\"displacy-arrowhead\" d=\"M1585.0,791.5 L1593.0,779.5 1577.0,779.5\" fill=\"currentColor\"/></g><g class=\"displacy-arrow\"><path class=\"displacy-arc\" id=\"arrow-c3ca51dc268b45e9b2d624c2dad07e3b-0-10\" stroke-width=\"2px\" d=\"M1820,789.5 C1820,702.0 1935.0,702.0 1935.0,789.5\" fill=\"none\" stroke=\"currentColor\"/><text dy=\"1.25em\" style=\"font-size: 0.8em; letter-spacing: 1px\"><textPath xlink:href=\"#arrow-c3ca51dc268b45e9b2d624c2dad07e3b-0-10\" class=\"displacy-label\" startOffset=\"50%\" side=\"left\" fill=\"currentColor\" text-anchor=\"middle\">nummod</textPath></text><path class=\"displacy-arrowhead\" d=\"M1820,791.5 L1812,779.5 1828,779.5\" fill=\"currentColor\"/></g><g class=\"displacy-arrow\"><path class=\"displacy-arc\" id=\"arrow-c3ca51dc268b45e9b2d624c2dad07e3b-0-11\" stroke-width=\"2px\" d=\"M1645,789.5 C1645,614.5 1940.0,614.5 1940.0,789.5\" fill=\"none\" stroke=\"currentColor\"/><text dy=\"1.25em\" style=\"font-size: 0.8em; letter-spacing: 1px\"><textPath xlink:href=\"#arrow-c3ca51dc268b45e9b2d624c2dad07e3b-0-11\" class=\"displacy-label\" startOffset=\"50%\" side=\"left\" fill=\"currentColor\" text-anchor=\"middle\">pobj</textPath></text><path class=\"displacy-arrowhead\" d=\"M1940.0,791.5 L1948.0,779.5 1932.0,779.5\" fill=\"currentColor\"/></g><g class=\"displacy-arrow\"><path class=\"displacy-arc\" id=\"arrow-c3ca51dc268b45e9b2d624c2dad07e3b-0-12\" stroke-width=\"2px\" d=\"M1995,789.5 C1995,702.0 2110.0,702.0 2110.0,789.5\" fill=\"none\" stroke=\"currentColor\"/><text dy=\"1.25em\" style=\"font-size: 0.8em; letter-spacing: 1px\"><textPath xlink:href=\"#arrow-c3ca51dc268b45e9b2d624c2dad07e3b-0-12\" class=\"displacy-label\" startOffset=\"50%\" side=\"left\" fill=\"currentColor\" text-anchor=\"middle\">cc</textPath></text><path class=\"displacy-arrowhead\" d=\"M2110.0,791.5 L2118.0,779.5 2102.0,779.5\" fill=\"currentColor\"/></g><g class=\"displacy-arrow\"><path class=\"displacy-arc\" id=\"arrow-c3ca51dc268b45e9b2d624c2dad07e3b-0-13\" stroke-width=\"2px\" d=\"M2345,789.5 C2345,702.0 2460.0,702.0 2460.0,789.5\" fill=\"none\" stroke=\"currentColor\"/><text dy=\"1.25em\" style=\"font-size: 0.8em; letter-spacing: 1px\"><textPath xlink:href=\"#arrow-c3ca51dc268b45e9b2d624c2dad07e3b-0-13\" class=\"displacy-label\" startOffset=\"50%\" side=\"left\" fill=\"currentColor\" text-anchor=\"middle\">nummod</textPath></text><path class=\"displacy-arrowhead\" d=\"M2345,791.5 L2337,779.5 2353,779.5\" fill=\"currentColor\"/></g><g class=\"displacy-arrow\"><path class=\"displacy-arc\" id=\"arrow-c3ca51dc268b45e9b2d624c2dad07e3b-0-14\" stroke-width=\"2px\" d=\"M1995,789.5 C1995,527.0 2470.0,527.0 2470.0,789.5\" fill=\"none\" stroke=\"currentColor\"/><text dy=\"1.25em\" style=\"font-size: 0.8em; letter-spacing: 1px\"><textPath xlink:href=\"#arrow-c3ca51dc268b45e9b2d624c2dad07e3b-0-14\" class=\"displacy-label\" startOffset=\"50%\" side=\"left\" fill=\"currentColor\" text-anchor=\"middle\">conj</textPath></text><path class=\"displacy-arrowhead\" d=\"M2470.0,791.5 L2478.0,779.5 2462.0,779.5\" fill=\"currentColor\"/></g><g class=\"displacy-arrow\"><path class=\"displacy-arc\" id=\"arrow-c3ca51dc268b45e9b2d624c2dad07e3b-0-15\" stroke-width=\"2px\" d=\"M1645,789.5 C1645,352.0 2655.0,352.0 2655.0,789.5\" fill=\"none\" stroke=\"currentColor\"/><text dy=\"1.25em\" style=\"font-size: 0.8em; letter-spacing: 1px\"><textPath xlink:href=\"#arrow-c3ca51dc268b45e9b2d624c2dad07e3b-0-15\" class=\"displacy-label\" startOffset=\"50%\" side=\"left\" fill=\"currentColor\" text-anchor=\"middle\">pobj</textPath></text><path class=\"displacy-arrowhead\" d=\"M2655.0,791.5 L2663.0,779.5 2647.0,779.5\" fill=\"currentColor\"/></g><g class=\"displacy-arrow\"><path class=\"displacy-arc\" id=\"arrow-c3ca51dc268b45e9b2d624c2dad07e3b-0-16\" stroke-width=\"2px\" d=\"M2870,789.5 C2870,614.5 3165.0,614.5 3165.0,789.5\" fill=\"none\" stroke=\"currentColor\"/><text dy=\"1.25em\" style=\"font-size: 0.8em; letter-spacing: 1px\"><textPath xlink:href=\"#arrow-c3ca51dc268b45e9b2d624c2dad07e3b-0-16\" class=\"displacy-label\" startOffset=\"50%\" side=\"left\" fill=\"currentColor\" text-anchor=\"middle\">nsubj</textPath></text><path class=\"displacy-arrowhead\" d=\"M2870,791.5 L2862,779.5 2878,779.5\" fill=\"currentColor\"/></g><g class=\"displacy-arrow\"><path class=\"displacy-arc\" id=\"arrow-c3ca51dc268b45e9b2d624c2dad07e3b-0-17\" stroke-width=\"2px\" d=\"M3045,789.5 C3045,702.0 3160.0,702.0 3160.0,789.5\" fill=\"none\" stroke=\"currentColor\"/><text dy=\"1.25em\" style=\"font-size: 0.8em; letter-spacing: 1px\"><textPath xlink:href=\"#arrow-c3ca51dc268b45e9b2d624c2dad07e3b-0-17\" class=\"displacy-label\" startOffset=\"50%\" side=\"left\" fill=\"currentColor\" text-anchor=\"middle\">aux</textPath></text><path class=\"displacy-arrowhead\" d=\"M3045,791.5 L3037,779.5 3053,779.5\" fill=\"currentColor\"/></g><g class=\"displacy-arrow\"><path class=\"displacy-arc\" id=\"arrow-c3ca51dc268b45e9b2d624c2dad07e3b-0-18\" stroke-width=\"2px\" d=\"M3220,789.5 C3220,264.5 4760.0,264.5 4760.0,789.5\" fill=\"none\" stroke=\"currentColor\"/><text dy=\"1.25em\" style=\"font-size: 0.8em; letter-spacing: 1px\"><textPath xlink:href=\"#arrow-c3ca51dc268b45e9b2d624c2dad07e3b-0-18\" class=\"displacy-label\" startOffset=\"50%\" side=\"left\" fill=\"currentColor\" text-anchor=\"middle\">ccomp</textPath></text><path class=\"displacy-arrowhead\" d=\"M3220,791.5 L3212,779.5 3228,779.5\" fill=\"currentColor\"/></g><g class=\"displacy-arrow\"><path class=\"displacy-arc\" id=\"arrow-c3ca51dc268b45e9b2d624c2dad07e3b-0-19\" stroke-width=\"2px\" d=\"M3395,789.5 C3395,702.0 3510.0,702.0 3510.0,789.5\" fill=\"none\" stroke=\"currentColor\"/><text dy=\"1.25em\" style=\"font-size: 0.8em; letter-spacing: 1px\"><textPath xlink:href=\"#arrow-c3ca51dc268b45e9b2d624c2dad07e3b-0-19\" class=\"displacy-label\" startOffset=\"50%\" side=\"left\" fill=\"currentColor\" text-anchor=\"middle\">aux</textPath></text><path class=\"displacy-arrowhead\" d=\"M3395,791.5 L3387,779.5 3403,779.5\" fill=\"currentColor\"/></g><g class=\"displacy-arrow\"><path class=\"displacy-arc\" id=\"arrow-c3ca51dc268b45e9b2d624c2dad07e3b-0-20\" stroke-width=\"2px\" d=\"M3220,789.5 C3220,614.5 3515.0,614.5 3515.0,789.5\" fill=\"none\" stroke=\"currentColor\"/><text dy=\"1.25em\" style=\"font-size: 0.8em; letter-spacing: 1px\"><textPath xlink:href=\"#arrow-c3ca51dc268b45e9b2d624c2dad07e3b-0-20\" class=\"displacy-label\" startOffset=\"50%\" side=\"left\" fill=\"currentColor\" text-anchor=\"middle\">xcomp</textPath></text><path class=\"displacy-arrowhead\" d=\"M3515.0,791.5 L3523.0,779.5 3507.0,779.5\" fill=\"currentColor\"/></g><g class=\"displacy-arrow\"><path class=\"displacy-arc\" id=\"arrow-c3ca51dc268b45e9b2d624c2dad07e3b-0-21\" stroke-width=\"2px\" d=\"M3745,789.5 C3745,614.5 4040.0,614.5 4040.0,789.5\" fill=\"none\" stroke=\"currentColor\"/><text dy=\"1.25em\" style=\"font-size: 0.8em; letter-spacing: 1px\"><textPath xlink:href=\"#arrow-c3ca51dc268b45e9b2d624c2dad07e3b-0-21\" class=\"displacy-label\" startOffset=\"50%\" side=\"left\" fill=\"currentColor\" text-anchor=\"middle\">amod</textPath></text><path class=\"displacy-arrowhead\" d=\"M3745,791.5 L3737,779.5 3753,779.5\" fill=\"currentColor\"/></g><g class=\"displacy-arrow\"><path class=\"displacy-arc\" id=\"arrow-c3ca51dc268b45e9b2d624c2dad07e3b-0-22\" stroke-width=\"2px\" d=\"M3920,789.5 C3920,702.0 4035.0,702.0 4035.0,789.5\" fill=\"none\" stroke=\"currentColor\"/><text dy=\"1.25em\" style=\"font-size: 0.8em; letter-spacing: 1px\"><textPath xlink:href=\"#arrow-c3ca51dc268b45e9b2d624c2dad07e3b-0-22\" class=\"displacy-label\" startOffset=\"50%\" side=\"left\" fill=\"currentColor\" text-anchor=\"middle\">quantmod</textPath></text><path class=\"displacy-arrowhead\" d=\"M3920,791.5 L3912,779.5 3928,779.5\" fill=\"currentColor\"/></g><g class=\"displacy-arrow\"><path class=\"displacy-arc\" id=\"arrow-c3ca51dc268b45e9b2d624c2dad07e3b-0-23\" stroke-width=\"2px\" d=\"M4095,789.5 C4095,702.0 4210.0,702.0 4210.0,789.5\" fill=\"none\" stroke=\"currentColor\"/><text dy=\"1.25em\" style=\"font-size: 0.8em; letter-spacing: 1px\"><textPath xlink:href=\"#arrow-c3ca51dc268b45e9b2d624c2dad07e3b-0-23\" class=\"displacy-label\" startOffset=\"50%\" side=\"left\" fill=\"currentColor\" text-anchor=\"middle\">nummod</textPath></text><path class=\"displacy-arrowhead\" d=\"M4095,791.5 L4087,779.5 4103,779.5\" fill=\"currentColor\"/></g><g class=\"displacy-arrow\"><path class=\"displacy-arc\" id=\"arrow-c3ca51dc268b45e9b2d624c2dad07e3b-0-24\" stroke-width=\"2px\" d=\"M3570,789.5 C3570,439.5 4225.0,439.5 4225.0,789.5\" fill=\"none\" stroke=\"currentColor\"/><text dy=\"1.25em\" style=\"font-size: 0.8em; letter-spacing: 1px\"><textPath xlink:href=\"#arrow-c3ca51dc268b45e9b2d624c2dad07e3b-0-24\" class=\"displacy-label\" startOffset=\"50%\" side=\"left\" fill=\"currentColor\" text-anchor=\"middle\">dobj</textPath></text><path class=\"displacy-arrowhead\" d=\"M4225.0,791.5 L4233.0,779.5 4217.0,779.5\" fill=\"currentColor\"/></g><g class=\"displacy-arrow\"><path class=\"displacy-arc\" id=\"arrow-c3ca51dc268b45e9b2d624c2dad07e3b-0-25\" stroke-width=\"2px\" d=\"M4445,789.5 C4445,614.5 4740.0,614.5 4740.0,789.5\" fill=\"none\" stroke=\"currentColor\"/><text dy=\"1.25em\" style=\"font-size: 0.8em; letter-spacing: 1px\"><textPath xlink:href=\"#arrow-c3ca51dc268b45e9b2d624c2dad07e3b-0-25\" class=\"displacy-label\" startOffset=\"50%\" side=\"left\" fill=\"currentColor\" text-anchor=\"middle\">attr</textPath></text><path class=\"displacy-arrowhead\" d=\"M4445,791.5 L4437,779.5 4453,779.5\" fill=\"currentColor\"/></g><g class=\"displacy-arrow\"><path class=\"displacy-arc\" id=\"arrow-c3ca51dc268b45e9b2d624c2dad07e3b-0-26\" stroke-width=\"2px\" d=\"M4620,789.5 C4620,702.0 4735.0,702.0 4735.0,789.5\" fill=\"none\" stroke=\"currentColor\"/><text dy=\"1.25em\" style=\"font-size: 0.8em; letter-spacing: 1px\"><textPath xlink:href=\"#arrow-c3ca51dc268b45e9b2d624c2dad07e3b-0-26\" class=\"displacy-label\" startOffset=\"50%\" side=\"left\" fill=\"currentColor\" text-anchor=\"middle\">aux</textPath></text><path class=\"displacy-arrowhead\" d=\"M4620,791.5 L4612,779.5 4628,779.5\" fill=\"currentColor\"/></g><g class=\"displacy-arrow\"><path class=\"displacy-arc\" id=\"arrow-c3ca51dc268b45e9b2d624c2dad07e3b-0-27\" stroke-width=\"2px\" d=\"M4970,789.5 C4970,702.0 5085.0,702.0 5085.0,789.5\" fill=\"none\" stroke=\"currentColor\"/><text dy=\"1.25em\" style=\"font-size: 0.8em; letter-spacing: 1px\"><textPath xlink:href=\"#arrow-c3ca51dc268b45e9b2d624c2dad07e3b-0-27\" class=\"displacy-label\" startOffset=\"50%\" side=\"left\" fill=\"currentColor\" text-anchor=\"middle\">det</textPath></text><path class=\"displacy-arrowhead\" d=\"M4970,791.5 L4962,779.5 4978,779.5\" fill=\"currentColor\"/></g><g class=\"displacy-arrow\"><path class=\"displacy-arc\" id=\"arrow-c3ca51dc268b45e9b2d624c2dad07e3b-0-28\" stroke-width=\"2px\" d=\"M4795,789.5 C4795,614.5 5090.0,614.5 5090.0,789.5\" fill=\"none\" stroke=\"currentColor\"/><text dy=\"1.25em\" style=\"font-size: 0.8em; letter-spacing: 1px\"><textPath xlink:href=\"#arrow-c3ca51dc268b45e9b2d624c2dad07e3b-0-28\" class=\"displacy-label\" startOffset=\"50%\" side=\"left\" fill=\"currentColor\" text-anchor=\"middle\">attr</textPath></text><path class=\"displacy-arrowhead\" d=\"M5090.0,791.5 L5098.0,779.5 5082.0,779.5\" fill=\"currentColor\"/></g><g class=\"displacy-arrow\"><path class=\"displacy-arc\" id=\"arrow-c3ca51dc268b45e9b2d624c2dad07e3b-0-29\" stroke-width=\"2px\" d=\"M4795,789.5 C4795,527.0 5270.0,527.0 5270.0,789.5\" fill=\"none\" stroke=\"currentColor\"/><text dy=\"1.25em\" style=\"font-size: 0.8em; letter-spacing: 1px\"><textPath xlink:href=\"#arrow-c3ca51dc268b45e9b2d624c2dad07e3b-0-29\" class=\"displacy-label\" startOffset=\"50%\" side=\"left\" fill=\"currentColor\" text-anchor=\"middle\">punct</textPath></text><path class=\"displacy-arrowhead\" d=\"M5270.0,791.5 L5278.0,779.5 5262.0,779.5\" fill=\"currentColor\"/></g><g class=\"displacy-arrow\"><path class=\"displacy-arc\" id=\"arrow-c3ca51dc268b45e9b2d624c2dad07e3b-0-30\" stroke-width=\"2px\" d=\"M4795,789.5 C4795,439.5 5450.0,439.5 5450.0,789.5\" fill=\"none\" stroke=\"currentColor\"/><text dy=\"1.25em\" style=\"font-size: 0.8em; letter-spacing: 1px\"><textPath xlink:href=\"#arrow-c3ca51dc268b45e9b2d624c2dad07e3b-0-30\" class=\"displacy-label\" startOffset=\"50%\" side=\"left\" fill=\"currentColor\" text-anchor=\"middle\">attr</textPath></text><path class=\"displacy-arrowhead\" d=\"M5450.0,791.5 L5458.0,779.5 5442.0,779.5\" fill=\"currentColor\"/></g><g class=\"displacy-arrow\"><path class=\"displacy-arc\" id=\"arrow-c3ca51dc268b45e9b2d624c2dad07e3b-0-31\" stroke-width=\"2px\" d=\"M5670,789.5 C5670,702.0 5785.0,702.0 5785.0,789.5\" fill=\"none\" stroke=\"currentColor\"/><text dy=\"1.25em\" style=\"font-size: 0.8em; letter-spacing: 1px\"><textPath xlink:href=\"#arrow-c3ca51dc268b45e9b2d624c2dad07e3b-0-31\" class=\"displacy-label\" startOffset=\"50%\" side=\"left\" fill=\"currentColor\" text-anchor=\"middle\">det</textPath></text><path class=\"displacy-arrowhead\" d=\"M5670,791.5 L5662,779.5 5678,779.5\" fill=\"currentColor\"/></g><g class=\"displacy-arrow\"><path class=\"displacy-arc\" id=\"arrow-c3ca51dc268b45e9b2d624c2dad07e3b-0-32\" stroke-width=\"2px\" d=\"M5495,789.5 C5495,614.5 5790.0,614.5 5790.0,789.5\" fill=\"none\" stroke=\"currentColor\"/><text dy=\"1.25em\" style=\"font-size: 0.8em; letter-spacing: 1px\"><textPath xlink:href=\"#arrow-c3ca51dc268b45e9b2d624c2dad07e3b-0-32\" class=\"displacy-label\" startOffset=\"50%\" side=\"left\" fill=\"currentColor\" text-anchor=\"middle\">npadvmod</textPath></text><path class=\"displacy-arrowhead\" d=\"M5790.0,791.5 L5798.0,779.5 5782.0,779.5\" fill=\"currentColor\"/></g><g class=\"displacy-arrow\"><path class=\"displacy-arc\" id=\"arrow-c3ca51dc268b45e9b2d624c2dad07e3b-0-33\" stroke-width=\"2px\" d=\"M6020,789.5 C6020,702.0 6135.0,702.0 6135.0,789.5\" fill=\"none\" stroke=\"currentColor\"/><text dy=\"1.25em\" style=\"font-size: 0.8em; letter-spacing: 1px\"><textPath xlink:href=\"#arrow-c3ca51dc268b45e9b2d624c2dad07e3b-0-33\" class=\"displacy-label\" startOffset=\"50%\" side=\"left\" fill=\"currentColor\" text-anchor=\"middle\">npadvmod</textPath></text><path class=\"displacy-arrowhead\" d=\"M6135.0,791.5 L6143.0,779.5 6127.0,779.5\" fill=\"currentColor\"/></g></svg></span>"
     },
     "metadata": {},
     "output_type": "display_data"
    }
   ],
   "execution_count": null
  },
  {
   "cell_type": "markdown",
   "source": "#### The result is quite impressive, it shows all predicted tags for each word and the dependency tree with the associated dependency labels. For example ‘I’ is a pronoun and is subject to the verb ‘like’.\n\n#### Let us detect the numerical modifiers, as we will need them to identify the memory size required",
   "metadata": {
    "cell_id": "00025-fad94fcb-a905-43c8-9ade-5f4ef54757e6",
    "deepnote_cell_type": "markdown"
   }
  },
  {
   "cell_type": "code",
   "metadata": {
    "cell_id": "00015-8b78808b-101c-43c0-93aa-e48f5afb7dc1",
    "colab": {
     "base_uri": "https://localhost:8080/"
    },
    "execution_millis": 11,
    "execution_start": 1628608282202,
    "id": "Y1nDnp2adwjE",
    "outputId": "37afdd92-1e7f-4705-b83e-5309fd2d7a00",
    "output_cleared": false,
    "source_hash": "4a31db30",
    "deepnote_to_be_reexecuted": false,
    "deepnote_cell_type": "code"
   },
   "source": "for token in docMail:  \n    if token.dep_ == 'nummod':    \n      print(f\"Numerical modifier: {token.text} --> object: {token.head}\")",
   "outputs": [
    {
     "name": "stdout",
     "text": "Numerical modifier: 16 --> object: GB\nNumerical modifier: 256 --> object: GB\nNumerical modifier: 1000 --> object: Francs\n",
     "output_type": "stream"
    }
   ],
   "execution_count": null
  },
  {
   "cell_type": "markdown",
   "source": "#### This is again quite cool, we can associate quantities to different words in the text.",
   "metadata": {
    "cell_id": "00027-b16c47ee-fa7e-414e-a52b-48c17323c272",
    "deepnote_cell_type": "markdown"
   }
  },
  {
   "cell_type": "markdown",
   "source": "## Identifying the action verbs\n\nSpacy provides all the required tagging to find the action verbs, we want to know if the customer wants to order something or is just interested by some information for example. Let us iterate through all tokens in the text and search for an open clausal complement ( refer to for all possible dependency tags https://spacy.io/api/annotation#pos-tagging )\n\n",
   "metadata": {
    "cell_id": "00028-1d30ba87-fac3-42f9-8bf8-3d15048b5656",
    "deepnote_cell_type": "markdown"
   }
  },
  {
   "cell_type": "code",
   "metadata": {
    "cell_id": "00020-0251194b-0caf-40b0-8415-af0f9c29a004",
    "colab": {
     "base_uri": "https://localhost:8080/"
    },
    "execution_millis": 5,
    "execution_start": 1628608283590,
    "id": "5YKyxgGupLop",
    "outputId": "7b852884-67d7-4224-f230-d318cf4aa5b0",
    "output_cleared": false,
    "source_hash": "54cbc03d",
    "deepnote_to_be_reexecuted": false,
    "deepnote_cell_type": "code"
   },
   "source": "verbs = set()\nfor possible_verbs in docMail:\n    if possible_verbs.dep == xcomp and possible_verbs.head.pos == VERB :\n        verbs.add(possible_verbs)\nprint(verbs)",
   "outputs": [
    {
     "name": "stdout",
     "text": "{spend, order}\n",
     "output_type": "stream"
    }
   ],
   "execution_count": null
  },
  {
   "cell_type": "markdown",
   "source": "#### We have now identified ‘spend’ and ‘order’ as possible actions in the text. We can also do the same to find objects or items in the text that are the referred to by the client",
   "metadata": {
    "cell_id": "00030-5bbf290f-374f-44fb-b921-a428f39cd4ce",
    "deepnote_cell_type": "markdown"
   }
  },
  {
   "cell_type": "markdown",
   "source": "## Identifying items\n\nLet us find possible items in the text using the dependency tag ‘dobj’ for direct objects of a verb.",
   "metadata": {
    "cell_id": "00031-cbb3b34e-3d14-48aa-a6b8-940c9c3971a3",
    "deepnote_cell_type": "markdown"
   }
  },
  {
   "cell_type": "code",
   "metadata": {
    "cell_id": "00018-c0e49024-682e-4cab-8a0c-c2bfac7a48bd",
    "colab": {
     "base_uri": "https://localhost:8080/"
    },
    "execution_millis": 6,
    "execution_start": 1628608284768,
    "id": "x7tD0PhWpLoZ",
    "outputId": "83f5b979-a5de-425b-991d-e3ac82e231c9",
    "output_cleared": false,
    "source_hash": "24ee8e5",
    "deepnote_to_be_reexecuted": false,
    "deepnote_cell_type": "code"
   },
   "source": "items = set()\nfor possible_item in docMail:\n    if possible_item.dep == dobj and possible_item.head.pos == VERB:\n        items.add(possible_item)\nprint(items)",
   "outputs": [
    {
     "name": "stdout",
     "text": "{Francs, notebook}\n",
     "output_type": "stream"
    }
   ],
   "execution_count": null
  },
  {
   "cell_type": "markdown",
   "source": "#### ‘Francs’ and ‘notebook’ have been found. Now we can think of using word similarities to find what kind of item the client is referring to. We could also use other techniques, but let us try a simple way for now. We will compare similarities between identified obejcts and the word ‘laptop’. The word ‘notebook’ is much closer to ‘laptop’ than Francs.",
   "metadata": {
    "cell_id": "00033-408f482c-ba96-4798-aef0-2fac4c12ad5e",
    "deepnote_cell_type": "markdown"
   }
  },
  {
   "cell_type": "code",
   "metadata": {
    "cell_id": "00019-f7d75f2e-d00d-4b11-87f3-6b367eb3d009",
    "colab": {
     "base_uri": "https://localhost:8080/"
    },
    "execution_millis": 5188,
    "execution_start": 1628608287548,
    "id": "qFTh6iJapLog",
    "outputId": "de0a83f7-ca26-4df1-d479-0ff1b717ed01",
    "output_cleared": false,
    "source_hash": "f52926cf",
    "deepnote_to_be_reexecuted": false,
    "deepnote_cell_type": "code"
   },
   "source": "import en_core_web_lg\nnlpwithvectors = en_core_web_lg.load() # we are using the large language model as we need vectors to compute word similarities\norderobject=nlpwithvectors(\"laptop\")\nfor  sub in items:\n  print(f\"Similarity of {sub.text} to laptop is {nlpwithvectors(sub.text).similarity(orderobject):.4f}\")\n",
   "outputs": [
    {
     "name": "stdout",
     "text": "Similarity of Francs to laptop is 0.0016\nSimilarity of notebook to laptop is 0.8022\n",
     "output_type": "stream"
    }
   ],
   "execution_count": null
  },
  {
   "cell_type": "markdown",
   "source": "#### Finally putting it together, we can think of automatically detecting the required action verb using a heuristic. Let us assume that if the similarity is more than 80%, then we have found the right verb. We then search for the direct object of the similar verb. That could look like this",
   "metadata": {
    "cell_id": "00035-2fca2992-42a7-4a55-a42f-610ab4820535",
    "deepnote_cell_type": "markdown"
   }
  },
  {
   "cell_type": "code",
   "metadata": {
    "cell_id": "00021-3b68677e-2c1a-4326-8178-e1acfb39dbbb",
    "colab": {
     "base_uri": "https://localhost:8080/"
    },
    "execution_millis": 31,
    "execution_start": 1628608292740,
    "id": "oHNG7j5ApLou",
    "outputId": "22c29c19-bf3b-4e3a-a3a8-264462f052d4",
    "output_cleared": false,
    "source_hash": "fdd6b09a",
    "deepnote_to_be_reexecuted": false,
    "deepnote_cell_type": "code"
   },
   "source": "orderword=nlpwithvectors(\"order\")\nfor  verb in verbs:\n  if (nlpwithvectors(verb.text).similarity(orderword)) >=0.8:\n    for v in verb.children:\n      if v.dep==dobj:\n        print(v.text)\n",
   "outputs": [
    {
     "name": "stdout",
     "text": "notebook\n",
     "output_type": "stream"
    }
   ],
   "execution_count": null
  },
  {
   "cell_type": "markdown",
   "source": "<a style='text-decoration:none;line-height:16px;display:flex;color:#5B5B62;padding:10px;justify-content:end;' href='https://deepnote.com?utm_source=created-in-deepnote-cell&projectId=2f9d885a-b1e8-4594-9193-3b21585f3628' target=\"_blank\">\n<img alt='Created in deepnote.com' style='display:inline;max-height:16px;margin:0px;margin-right:7.5px;' src='data:image/svg+xml;base64,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' > </img>\nCreated in <span style='font-weight:600;margin-left:4px;'>Deepnote</span></a>",
   "metadata": {
    "tags": [],
    "created_in_deepnote_cell": true,
    "deepnote_cell_type": "markdown"
   }
  }
 ],
 "nbformat": 4,
 "nbformat_minor": 1,
 "metadata": {
  "colab": {
   "name": "Copy of ordermail.ipynb",
   "provenance": []
  },
  "deepnote_execution_queue": [],
  "deepnote_notebook_id": "bf3bd07f-d968-4efb-9bd2-a15d4ab810d1",
  "kernelspec": {
   "display_name": "Python 3",
   "language": "python",
   "name": "python3"
  },
  "language_info": {
   "codemirror_mode": {
    "name": "ipython",
    "version": 3
   },
   "file_extension": ".py",
   "mimetype": "text/x-python",
   "name": "python",
   "nbconvert_exporter": "python",
   "pygments_lexer": "ipython3",
   "version": "3.8.11"
  },
  "deepnote": {}
 }
}